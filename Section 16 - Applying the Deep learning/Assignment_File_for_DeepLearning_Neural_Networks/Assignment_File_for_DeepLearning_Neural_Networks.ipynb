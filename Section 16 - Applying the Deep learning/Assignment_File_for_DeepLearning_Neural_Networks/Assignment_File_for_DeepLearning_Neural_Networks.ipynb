{
  "nbformat": 4,
  "nbformat_minor": 0,
  "metadata": {
    "colab": {
      "name": "Assignment File for DeepLearning Neural Networks.ipynb",
      "version": "0.3.2",
      "provenance": [],
      "collapsed_sections": [
        "kc9i5_TkJZyo",
        "1uiea4v0SqRp",
        "618dTY2FT3QG",
        "kGlk6EY4WHsw"
      ]
    },
    "kernelspec": {
      "name": "python3",
      "display_name": "Python 3"
    }
  },
  "cells": [
    {
      "cell_type": "markdown",
      "metadata": {
        "id": "v8KZevWKH0Ne",
        "colab_type": "text"
      },
      "source": [
        "# **Use this file and complete the assignment by writing the codes in empty Blocks**\n"
      ]
    },
    {
      "cell_type": "code",
      "metadata": {
        "id": "-N_r_7PjHxNh",
        "colab_type": "code",
        "colab": {}
      },
      "source": [
        "#Importing the Libraries\n",
        "import numpy as np\n",
        "import pandas as pd\n",
        "import matplotlib.pyplot as plt\n",
        "from sklearn.model_selection import train_test_split\n",
        "from keras import models,layers,optimizers,losses\n",
        "from sklearn.datasets import make_blobs,make_moons,make_circles\n",
        "import matplotlib\n",
        "from sklearn.metrics import accuracy_score\n"
      ],
      "execution_count": 0,
      "outputs": []
    },
    {
      "cell_type": "code",
      "metadata": {
        "id": "NcNA3Y4VOm93",
        "colab_type": "code",
        "colab": {}
      },
      "source": [
        "#Run the code - Code from previous video for class Sigmoid\n",
        "class SigmoidFunction:\n",
        "  def __init__(self):\n",
        "    self.w = None\n",
        "    self.b = None\n",
        "    np.random.seed(0)\n",
        "   \n",
        "  def Sigmoid(self,x):\n",
        "    return 1.0/(1.0+ np.exp(-(np.dot(self.w,x)+self.b)))  \n",
        "  \n",
        "  def grad_w(self,x,y):\n",
        "    y_pred = self.Sigmoid(x)\n",
        "    return 2 *(y_pred - y) * y_pred * (1-y_pred) * x\n",
        "  \n",
        "  def grad_b(self,x,y):\n",
        "    y_pred = self.Sigmoid(x)\n",
        "    return 2 *(y_pred - y) * y_pred * (1-y_pred)\n",
        "  \n",
        "  def fit(self,X,Y,epochs = 1 ,lr = 1,initialize = True):\n",
        "    #intializing the values of w and b\n",
        "    if initialize:\n",
        "      np.random.seed(6)\n",
        "      self.w = np.random.randn(1, X.shape[1]) #Each input will have its weights, hence initializing the weights which is same as number of columns in X\n",
        "      self.b = 0\n",
        "    \n",
        "    for i in range(epochs):\n",
        "      dw = 0\n",
        "      db = 0\n",
        "      for x,y in zip(X,Y):\n",
        "        dw += self.grad_w(x,y)\n",
        "        db += self.grad_b(x,y)\n",
        "      \n",
        "      self.w -= lr*dw\n",
        "      self.b -= lr*db\n",
        "      \n",
        "  def Loss(self,X,Y):\n",
        "    loss = 0\n",
        "    for x,y in zip(X,Y):\n",
        "      loss += (self.Sigmoid(x) - y)**2\n",
        "    print(\"Loss is :\",loss)\n",
        "      \n"
      ],
      "execution_count": 0,
      "outputs": []
    },
    {
      "cell_type": "markdown",
      "metadata": {
        "id": "kc9i5_TkJZyo",
        "colab_type": "text"
      },
      "source": [
        "# Assignment 1 :  \n",
        "## **Difficulty Level - Easy**\n",
        "## Make blobs"
      ]
    },
    {
      "cell_type": "code",
      "metadata": {
        "id": "H8Frz_J7H9cP",
        "colab_type": "code",
        "outputId": "05ba53a5-2666-4b7b-90fd-cc28986e8e68",
        "colab": {
          "base_uri": "https://localhost:8080/",
          "height": 283
        }
      },
      "source": [
        "#Make blobs\n",
        "X, y = make_blobs(n_samples=1000, centers=4, n_features=2, random_state=0)\n",
        "# scatter plot, dots colored by class value\n",
        "colors = {0:'red', 1:'blue', 2:'green',3:'yellow'}\n",
        "df = pd.DataFrame(dict(x=X[:,0], y=X[:,1], label=y))\n",
        "fig, ax = plt.subplots()\n",
        "grouped = df.groupby('label')\n",
        "for key, group in grouped:\n",
        "    group.plot(ax=ax, kind='scatter', x='x', y='y', label = key, color=colors[key])\n",
        "plt.show()"
      ],
      "execution_count": 0,
      "outputs": [
        {
          "output_type": "display_data",
          "data": {
            "image/png": "[encoded data removed]",
            "text/plain": [
              "<Figure size 432x288 with 1 Axes>"
            ]
          },
          "metadata": {
            "tags": []
          }
        }
      ]
    },
    {
      "cell_type": "code",
      "metadata": {
        "id": "JugY2Zg7NuXn",
        "colab_type": "code",
        "colab": {}
      },
      "source": [
        "#Generated 4 values"
      ],
      "execution_count": 0,
      "outputs": []
    },
    {
      "cell_type": "code",
      "metadata": {
        "id": "F9PV31ggLyYF",
        "colab_type": "code",
        "colab": {}
      },
      "source": [
        "# converting to binary values for y\n",
        "orig_y = y\n",
        "y = np.mod(orig_y,2)"
      ],
      "execution_count": 0,
      "outputs": []
    },
    {
      "cell_type": "code",
      "metadata": {
        "id": "vRDs18kOJlPn",
        "colab_type": "code",
        "outputId": "a2a76986-8d87-462e-a592-9b7750a4a127",
        "colab": {
          "base_uri": "https://localhost:8080/",
          "height": 283
        }
      },
      "source": [
        "#Finally visualizing the plot\n",
        "colors = {0:'red', 1:'blue', 2:'green',3:'yellow'}\n",
        "df = pd.DataFrame(dict(x=X[:,0], y=X[:,1], label=y))\n",
        "fig, ax = plt.subplots()\n",
        "grouped = df.groupby('label')\n",
        "for key, group in grouped:\n",
        "    group.plot(ax=ax, kind='scatter', x='x', y='y', label = key, color=colors[key])\n",
        "plt.show()"
      ],
      "execution_count": 0,
      "outputs": [
        {
          "output_type": "display_data",
          "data": {
            "image/png": "[encoded data removed]",
            "text/plain": [
              "<Figure size 432x288 with 1 Axes>"
            ]
          },
          "metadata": {
            "tags": []
          }
        }
      ]
    },
    {
      "cell_type": "code",
      "metadata": {
        "id": "2lfFg_wENpZm",
        "colab_type": "code",
        "colab": {}
      },
      "source": [
        "#The Input is Stored in - X\n",
        "#output is in - y"
      ],
      "execution_count": 0,
      "outputs": []
    },
    {
      "cell_type": "code",
      "metadata": {
        "id": "ZdkuSTQvOlgl",
        "colab_type": "code",
        "outputId": "01ce3bb0-029e-4c8d-a898-50198af838e8",
        "colab": {
          "base_uri": "https://localhost:8080/",
          "height": 34
        }
      },
      "source": [
        "X.shape,y.shape"
      ],
      "execution_count": 0,
      "outputs": [
        {
          "output_type": "execute_result",
          "data": {
            "text/plain": [
              "((1000, 2), (1000,))"
            ]
          },
          "metadata": {
            "tags": []
          },
          "execution_count": 30
        }
      ]
    },
    {
      "cell_type": "code",
      "metadata": {
        "id": "DJj9hDetO7xN",
        "colab_type": "code",
        "colab": {}
      },
      "source": [
        "#Perform Split with test size as 0.1 and Random_state  - 6"
      ],
      "execution_count": 0,
      "outputs": []
    },
    {
      "cell_type": "code",
      "metadata": {
        "id": "1bMsxTicO_3g",
        "colab_type": "code",
        "colab": {}
      },
      "source": [
        "#Perform the fit to class Sigmoid Neuron , epochs = 10000, learning rate = 0.01 "
      ],
      "execution_count": 0,
      "outputs": []
    },
    {
      "cell_type": "markdown",
      "metadata": {
        "id": "h5DKprDCQCrA",
        "colab_type": "text"
      },
      "source": [
        "#### Task 1 : Compute Accuracy for Sigmoid Neuron"
      ]
    },
    {
      "cell_type": "code",
      "metadata": {
        "id": "LeA1dHW2Pbys",
        "colab_type": "code",
        "colab": {}
      },
      "source": [
        "#Task 1\n",
        "#Compute Accuracy Score for Sigmoid Neuron (refer to previous video for help in coding)"
      ],
      "execution_count": 0,
      "outputs": []
    },
    {
      "cell_type": "markdown",
      "metadata": {
        "id": "mb-KtsrVQGSU",
        "colab_type": "text"
      },
      "source": [
        "#### Task 2 : Number of Units is 16 for first 2, and 1 unit for final layer (fill the number in place of * in the below code)"
      ]
    },
    {
      "cell_type": "code",
      "metadata": {
        "id": "8h2WWvXSPxg1",
        "colab_type": "code",
        "colab": {}
      },
      "source": [
        "#Deep Learning Task 2 :\n",
        "network = models.Sequential()\n",
        "network.add(layers.Dense(*,activation = 'sigmoid',input_shape = (X.shape[1],)))\n",
        "network.add(layers.Dense(*,activation = 'sigmoid'))\n",
        "network.add(layers.Dense(*,activation = 'sigmoid'))"
      ],
      "execution_count": 0,
      "outputs": []
    },
    {
      "cell_type": "code",
      "metadata": {
        "id": "lNlGafebQi4g",
        "colab_type": "code",
        "colab": {}
      },
      "source": [
        "#Execute the code\n",
        "network.compile(optimizer = optimizers.RMSprop(lr = 0.01),\n",
        "               loss = losses.mean_squared_error,\n",
        "               metrics = ['accuracy'])"
      ],
      "execution_count": 0,
      "outputs": []
    },
    {
      "cell_type": "markdown",
      "metadata": {
        "id": "SVkZWaEUQr2d",
        "colab_type": "text"
      },
      "source": [
        "#### Task 3 :Set the number of epochs to 10000 (fill the number in place of * in the below code) , notedown the best accuracy model reached for validation data"
      ]
    },
    {
      "cell_type": "code",
      "metadata": {
        "id": "g1f_uS0IQx-J",
        "colab_type": "code",
        "colab": {}
      },
      "source": [
        "\n",
        "history = network.fit(X_train,\n",
        "                     Y_train,\n",
        "                     epochs = *,\n",
        "                     validation_data = (X_test,Y_test))"
      ],
      "execution_count": 0,
      "outputs": []
    },
    {
      "cell_type": "code",
      "metadata": {
        "id": "XAgC0vKXQ1RE",
        "colab_type": "code",
        "colab": {}
      },
      "source": [
        "#Execute the code, you should be able to visualize the Training accuracy\n",
        "history_dict = history.history\n",
        "plt.plot(history_dict['acc'],'b',label = 'Training Accuracy')\n",
        "plt.legend()\n",
        "plt.show()"
      ],
      "execution_count": 0,
      "outputs": []
    },
    {
      "cell_type": "markdown",
      "metadata": {
        "id": "1uiea4v0SqRp",
        "colab_type": "text"
      },
      "source": [
        "# Assignment 2 :  \n",
        "## **Difficulty Level - Intermediate**\n",
        "## Make Moons"
      ]
    },
    {
      "cell_type": "markdown",
      "metadata": {
        "id": "iOkspfTOTkb8",
        "colab_type": "text"
      },
      "source": [
        "In this Assignment, you are required to reference your previously written code to complete the assignment.\n",
        "No step-by-step code blocks are provided"
      ]
    },
    {
      "cell_type": "code",
      "metadata": {
        "id": "N1fOEmZLS4fy",
        "colab_type": "code",
        "outputId": "f3b6a46f-4d55-4d7a-d13c-e8f5b243cdbf",
        "colab": {
          "base_uri": "https://localhost:8080/",
          "height": 283
        }
      },
      "source": [
        "#Generating the Dataset\n",
        "X, y = make_moons(n_samples=1000, noise=0.25,random_state = 0)\n",
        "# scatter plot, dots colored by class value\n",
        "df = pd.DataFrame(dict(x=X[:,0], y=X[:,1], label=y))\n",
        "colors = {0:'red', 1:'blue'}\n",
        "fig, ax = plt.subplots()\n",
        "grouped = df.groupby('label')\n",
        "for key, group in grouped:\n",
        "    group.plot(ax=ax, kind='scatter', x='x', y='y', label=key, color=colors[key])\n",
        "plt.show()"
      ],
      "execution_count": 0,
      "outputs": [
        {
          "output_type": "display_data",
          "data": {
            "image/png": "[encoded data removed]",
            "text/plain": [
              "<Figure size 432x288 with 1 Axes>"
            ]
          },
          "metadata": {
            "tags": []
          }
        }
      ]
    },
    {
      "cell_type": "markdown",
      "metadata": {
        "id": "618dTY2FT3QG",
        "colab_type": "text"
      },
      "source": [
        "#### Task 1 : Compute Accuracy for Sigmoid Neuron"
      ]
    },
    {
      "cell_type": "code",
      "metadata": {
        "id": "I0r7njz8T6Ba",
        "colab_type": "code",
        "colab": {}
      },
      "source": [
        ""
      ],
      "execution_count": 0,
      "outputs": []
    },
    {
      "cell_type": "code",
      "metadata": {
        "id": "xiIjIpzXT5_L",
        "colab_type": "code",
        "colab": {}
      },
      "source": [
        ""
      ],
      "execution_count": 0,
      "outputs": []
    },
    {
      "cell_type": "code",
      "metadata": {
        "id": "PMdZS3v8T5WD",
        "colab_type": "code",
        "colab": {}
      },
      "source": [
        ""
      ],
      "execution_count": 0,
      "outputs": []
    },
    {
      "cell_type": "code",
      "metadata": {
        "id": "7ljW0nLjT5Tf",
        "colab_type": "code",
        "colab": {}
      },
      "source": [
        ""
      ],
      "execution_count": 0,
      "outputs": []
    },
    {
      "cell_type": "code",
      "metadata": {
        "id": "9LOeJxCYT5Qk",
        "colab_type": "code",
        "colab": {}
      },
      "source": [
        ""
      ],
      "execution_count": 0,
      "outputs": []
    },
    {
      "cell_type": "code",
      "metadata": {
        "id": "KfYmgDg4T5Fs",
        "colab_type": "code",
        "colab": {}
      },
      "source": [
        ""
      ],
      "execution_count": 0,
      "outputs": []
    },
    {
      "cell_type": "code",
      "metadata": {
        "id": "6dT70BXATD_k",
        "colab_type": "code",
        "colab": {}
      },
      "source": [
        ""
      ],
      "execution_count": 0,
      "outputs": []
    },
    {
      "cell_type": "markdown",
      "metadata": {
        "id": "wniuDe0NT7uz",
        "colab_type": "text"
      },
      "source": [
        "#### Task 2 : Number of Units is 12 units in first layer, 10 units in second layer, 8 units in third layer,  and 1 unit for final layer  - refer to below tip for hint"
      ]
    },
    {
      "cell_type": "code",
      "metadata": {
        "id": "KA32b-msUSuA",
        "colab_type": "code",
        "colab": {}
      },
      "source": [
        "\"\"\"\n",
        "Hint:\n",
        "network = models.Sequential() (you will initial the model as Sequential)\n",
        "network.add(layers.Dense(*,activation = 'sigmoid',input_shape = (X.shape[1],))) (in place of * you will enter the units for 1st layer)\n",
        "network.add(layers.Dense(*,activation = 'sigmoid')) (in place of * you will enter the units required for second layer)\n",
        "network.add(layers.Dense(*,activation = 'sigmoid')) (in place of * you will enter the units required for third layer)\n",
        "network.add(layers.Dense(*,activation = 'sigmoid')) (in place of * you will enter the units required for final layer)\n",
        "\n",
        "\n",
        "then add the below piece of code for compilation:\n",
        "\n",
        "network.compile(optimizer = optimizers.RMSprop(lr = 0.01),\n",
        "               loss = losses.mean_squared_error,\n",
        "               metrics = ['accuracy'])\n",
        " \n",
        "\"\"\""
      ],
      "execution_count": 0,
      "outputs": []
    },
    {
      "cell_type": "code",
      "metadata": {
        "id": "F3xWkFboVl8h",
        "colab_type": "code",
        "colab": {}
      },
      "source": [
        ""
      ],
      "execution_count": 0,
      "outputs": []
    },
    {
      "cell_type": "code",
      "metadata": {
        "id": "nFpElkf1Vl5z",
        "colab_type": "code",
        "colab": {}
      },
      "source": [
        ""
      ],
      "execution_count": 0,
      "outputs": []
    },
    {
      "cell_type": "code",
      "metadata": {
        "id": "1r3p6mC6VjNS",
        "colab_type": "code",
        "colab": {}
      },
      "source": [
        ""
      ],
      "execution_count": 0,
      "outputs": []
    },
    {
      "cell_type": "markdown",
      "metadata": {
        "id": "t83fn0tLVv0x",
        "colab_type": "text"
      },
      "source": [
        "#### Task 3 :Set the number of epochs to 5000 and Run the Neural network and note down the max accuracy on Validation Data"
      ]
    },
    {
      "cell_type": "code",
      "metadata": {
        "id": "khLBir04V6a5",
        "colab_type": "code",
        "colab": {}
      },
      "source": [
        ""
      ],
      "execution_count": 0,
      "outputs": []
    },
    {
      "cell_type": "code",
      "metadata": {
        "id": "Wl2Pf8rCV7PR",
        "colab_type": "code",
        "colab": {}
      },
      "source": [
        ""
      ],
      "execution_count": 0,
      "outputs": []
    },
    {
      "cell_type": "code",
      "metadata": {
        "id": "mKNVyFa-V7Hj",
        "colab_type": "code",
        "colab": {}
      },
      "source": [
        "#Plot the Graph of Accuracy on Validation data"
      ],
      "execution_count": 0,
      "outputs": []
    },
    {
      "cell_type": "code",
      "metadata": {
        "id": "Z25NONQWWDDY",
        "colab_type": "code",
        "colab": {}
      },
      "source": [
        ""
      ],
      "execution_count": 0,
      "outputs": []
    },
    {
      "cell_type": "markdown",
      "metadata": {
        "id": "kGlk6EY4WHsw",
        "colab_type": "text"
      },
      "source": [
        "# Assignment 3 :\n",
        "## Difficulty Level - Intermediate \n",
        "### Make Circles"
      ]
    },
    {
      "cell_type": "code",
      "metadata": {
        "id": "G9ij-3HkWSmS",
        "colab_type": "code",
        "outputId": "ca24ced2-a2f0-49cb-ae6b-d32b1de1f0e3",
        "colab": {
          "base_uri": "https://localhost:8080/",
          "height": 283
        }
      },
      "source": [
        "# generate 2d classification dataset\n",
        "X, y = make_circles(n_samples=2000, noise=0.09)\n",
        "# scatter plot, dots colored by class value\n",
        "df = pd.DataFrame(dict(x=X[:,0], y=X[:,1], label=y))\n",
        "colors = {0:'red', 1:'blue'}\n",
        "fig, ax = plt.subplots()\n",
        "grouped = df.groupby('label')\n",
        "for key, group in grouped:\n",
        "    group.plot(ax=ax, kind='scatter', x='x', y='y', label=key, color=colors[key])\n",
        "plt.show()"
      ],
      "execution_count": 0,
      "outputs": [
        {
          "output_type": "display_data",
          "data": {
            "image/png": "[encoded data removed]",
            "text/plain": [
              "<Figure size 432x288 with 1 Axes>"
            ]
          },
          "metadata": {
            "tags": []
          }
        }
      ]
    },
    {
      "cell_type": "markdown",
      "metadata": {
        "id": "M6P73LAwYdEz",
        "colab_type": "text"
      },
      "source": [
        "#### Task 1 : Compute Accuracy for Sigmoid Neuron"
      ]
    },
    {
      "cell_type": "code",
      "metadata": {
        "id": "X2tv5dLXYYlj",
        "colab_type": "code",
        "colab": {}
      },
      "source": [
        ""
      ],
      "execution_count": 0,
      "outputs": []
    },
    {
      "cell_type": "code",
      "metadata": {
        "id": "R-xTVLzvYeH3",
        "colab_type": "code",
        "colab": {}
      },
      "source": [
        ""
      ],
      "execution_count": 0,
      "outputs": []
    },
    {
      "cell_type": "code",
      "metadata": {
        "id": "-tXRdG65YeE_",
        "colab_type": "code",
        "colab": {}
      },
      "source": [
        ""
      ],
      "execution_count": 0,
      "outputs": []
    },
    {
      "cell_type": "code",
      "metadata": {
        "id": "BIAShRtGYeCS",
        "colab_type": "code",
        "colab": {}
      },
      "source": [
        ""
      ],
      "execution_count": 0,
      "outputs": []
    },
    {
      "cell_type": "code",
      "metadata": {
        "id": "ZXk78eA5Yd8P",
        "colab_type": "code",
        "colab": {}
      },
      "source": [
        ""
      ],
      "execution_count": 0,
      "outputs": []
    },
    {
      "cell_type": "markdown",
      "metadata": {
        "id": "VEbyq5h8YiE1",
        "colab_type": "text"
      },
      "source": [
        "#### Task 2 : Number of Units is 32 units in first layer, 16 units in second layer, 16 units in third layer, 4 units in fourth layer  and 1 unit for final layer  - (you are already familiar with previous assignment)"
      ]
    },
    {
      "cell_type": "code",
      "metadata": {
        "id": "I1-kph73Yvli",
        "colab_type": "code",
        "colab": {}
      },
      "source": [
        ""
      ],
      "execution_count": 0,
      "outputs": []
    },
    {
      "cell_type": "code",
      "metadata": {
        "id": "KekJdJbMYwtI",
        "colab_type": "code",
        "colab": {}
      },
      "source": [
        ""
      ],
      "execution_count": 0,
      "outputs": []
    },
    {
      "cell_type": "code",
      "metadata": {
        "id": "zA-ac-arYwqj",
        "colab_type": "code",
        "colab": {}
      },
      "source": [
        ""
      ],
      "execution_count": 0,
      "outputs": []
    },
    {
      "cell_type": "code",
      "metadata": {
        "id": "_GirdSpsYwnj",
        "colab_type": "code",
        "colab": {}
      },
      "source": [
        ""
      ],
      "execution_count": 0,
      "outputs": []
    },
    {
      "cell_type": "code",
      "metadata": {
        "id": "hQwSdLSHYwkf",
        "colab_type": "code",
        "colab": {}
      },
      "source": [
        ""
      ],
      "execution_count": 0,
      "outputs": []
    },
    {
      "cell_type": "markdown",
      "metadata": {
        "id": "o8yZ6ZaCYxen",
        "colab_type": "text"
      },
      "source": [
        "#### Task 3 :Set the number of epochs to 1000 and Run the Neural network and note down the max accuracy on Validation Data, and plot the Validation Accuracy"
      ]
    },
    {
      "cell_type": "code",
      "metadata": {
        "id": "cF99zlbvY3oX",
        "colab_type": "code",
        "colab": {}
      },
      "source": [
        ""
      ],
      "execution_count": 0,
      "outputs": []
    },
    {
      "cell_type": "code",
      "metadata": {
        "id": "79OKHNI9Y4nD",
        "colab_type": "code",
        "colab": {}
      },
      "source": [
        ""
      ],
      "execution_count": 0,
      "outputs": []
    },
    {
      "cell_type": "code",
      "metadata": {
        "id": "k8iRUwqxY4km",
        "colab_type": "code",
        "colab": {}
      },
      "source": [
        ""
      ],
      "execution_count": 0,
      "outputs": []
    },
    {
      "cell_type": "code",
      "metadata": {
        "id": "ihxL7F8-Y4h9",
        "colab_type": "code",
        "colab": {}
      },
      "source": [
        ""
      ],
      "execution_count": 0,
      "outputs": []
    },
    {
      "cell_type": "code",
      "metadata": {
        "id": "zi4seIJTY4ew",
        "colab_type": "code",
        "colab": {}
      },
      "source": [
        ""
      ],
      "execution_count": 0,
      "outputs": []
    }
  ]
}