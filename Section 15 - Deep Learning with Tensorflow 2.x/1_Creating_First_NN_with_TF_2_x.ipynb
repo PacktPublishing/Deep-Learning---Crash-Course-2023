{
  "nbformat": 4,
  "nbformat_minor": 0,
  "metadata": {
    "kernelspec": {
      "display_name": "Python 3",
      "language": "python",
      "name": "python3"
    },
    "language_info": {
      "codemirror_mode": {
        "name": "ipython",
        "version": 3
      },
      "file_extension": ".py",
      "mimetype": "text/x-python",
      "name": "python",
      "nbconvert_exporter": "python",
      "pygments_lexer": "ipython3",
      "version": "3.8.5"
    },
    "colab": {
      "name": "1. Creating First NN with TF 2.x.ipynb",
      "provenance": [],
      "collapsed_sections": []
    }
  },
  "cells": [
    {
      "cell_type": "code",
      "metadata": {
        "colab": {
          "base_uri": "https://localhost:8080/"
        },
        "id": "JNSJX8j1AQRN",
        "outputId": "ff89c103-7e5e-4cbc-8ed2-00b6767b5934"
      },
      "source": [
        "import tensorflow as tf\n",
        "from tensorflow import keras\n",
        "print(tf.__version__, keras.__version__)"
      ],
      "execution_count": null,
      "outputs": [
        {
          "output_type": "stream",
          "name": "stdout",
          "text": [
            "2.6.0 2.6.0\n"
          ]
        }
      ]
    },
    {
      "cell_type": "code",
      "metadata": {
        "id": "iqYXoj4PAO2x"
      },
      "source": [
        "from tensorflow.keras import layers"
      ],
      "execution_count": null,
      "outputs": []
    },
    {
      "cell_type": "code",
      "metadata": {
        "colab": {
          "base_uri": "https://localhost:8080/"
        },
        "id": "J_oSeHKeAO2y",
        "outputId": "18d02153-d24d-40e6-ab55-e4f3c81d1ec0"
      },
      "source": [
        "model = keras.Sequential()\n",
        "model.add(layers.Dense(units=4, input_shape = (3,), \n",
        "                       activation = \"sigmoid\")) # 4 units in Hidden layer\n",
        "model.add(layers.Dense(units = 4, activation = \"sigmoid\"))\n",
        "model.add(layers.Dense(units = 1, activation = \"sigmoid\"))\n",
        "model.summary()"
      ],
      "execution_count": null,
      "outputs": [
        {
          "output_type": "stream",
          "name": "stdout",
          "text": [
            "Model: \"sequential_2\"\n",
            "_________________________________________________________________\n",
            "Layer (type)                 Output Shape              Param #   \n",
            "=================================================================\n",
            "dense_6 (Dense)              (None, 4)                 16        \n",
            "_________________________________________________________________\n",
            "dense_7 (Dense)              (None, 4)                 20        \n",
            "_________________________________________________________________\n",
            "dense_8 (Dense)              (None, 1)                 5         \n",
            "=================================================================\n",
            "Total params: 41\n",
            "Trainable params: 41\n",
            "Non-trainable params: 0\n",
            "_________________________________________________________________\n"
          ]
        }
      ]
    },
    {
      "cell_type": "code",
      "metadata": {
        "id": "HohzR6fPwWZ2",
        "colab": {
          "base_uri": "https://localhost:8080/",
          "height": 70
        },
        "outputId": "e9d30d39-b0c7-44bc-c0b7-0e7b017cb311"
      },
      "source": [
        "\"\"\"\n",
        "Input = 3\n",
        "H1 = 4 Neurons\n",
        "Parameters = Input * Number of Neurons in a Hidden Layer + Number of Neurons in a Hidden Layer\n",
        "            = Weights + Bias\n",
        "\n",
        "H1_p = 3 * 4 + 4 = 16\n",
        "\n",
        "\n",
        "Layer _2 :\n",
        "H1 - 4 Inputs\n",
        "H2 = 4 Neurons\n",
        "\n",
        "Parameters = 4*4 + 4 = 20\n",
        "\n",
        "Ouput Layer:\n",
        "Inputs = 4\n",
        "O/P = 1\n",
        "\n",
        "Parameters = 4 * 1 + 1 = 4+1 = 5\n",
        "\n",
        "\"\"\""
      ],
      "execution_count": null,
      "outputs": [
        {
          "output_type": "execute_result",
          "data": {
            "application/vnd.google.colaboratory.intrinsic+json": {
              "type": "string"
            },
            "text/plain": [
              "'\\nInput = 3\\nH1 = 4 Neurons\\nParameters = Input * Number of Neurons in a Hidden Layer + Number of Neurons in a Hidden Layer\\n            = Weights + Bias\\n\\nH1_p = 3 * 4 + 4 = 16\\n\\n\\nLayer _2 :\\nH1 - 4 Inputs\\nH2 = 4 Neurons\\n\\nParameters = 4*4 + 4 = 20\\n\\nOuput Layer:\\nInputs = 4\\nO/P = 1\\n\\nParameters = 4 * 1 + 1 = 4+1 = 5\\n\\n'"
            ]
          },
          "metadata": {},
          "execution_count": 16
        }
      ]
    },
    {
      "cell_type": "code",
      "metadata": {
        "id": "DqtU6Sr7AO2z"
      },
      "source": [
        "#Verify the total number of parameters in a network"
      ],
      "execution_count": null,
      "outputs": []
    },
    {
      "cell_type": "code",
      "metadata": {
        "id": "z-lFg-QWAO20"
      },
      "source": [
        "#Compile the model\n",
        "#Optimizer, Loss & Metrics\n",
        "model.compile(optimizer = \"SGD\",\n",
        "             loss = \"mean_squared_error\",\n",
        "             metrics = [\"accuracy\"])"
      ],
      "execution_count": null,
      "outputs": []
    },
    {
      "cell_type": "code",
      "metadata": {
        "id": "a2I-V--7AO21"
      },
      "source": [
        "#Get Data\n",
        "import numpy as np\n",
        "import matplotlib.pyplot as plt\n",
        "import pandas as pd\n",
        "from sklearn.model_selection import train_test_split\n",
        "from sklearn.datasets import make_circles"
      ],
      "execution_count": null,
      "outputs": []
    },
    {
      "cell_type": "code",
      "metadata": {
        "id": "ac5MainvAO21",
        "colab": {
          "base_uri": "https://localhost:8080/",
          "height": 279
        },
        "outputId": "5f3248cb-62a3-44cc-c094-67d59c2ba553"
      },
      "source": [
        "# generate 2d classification dataset\n",
        "X, y = make_circles(n_samples=1000, noise=0.05)\n",
        "# scatter plot, dots colored by class value\n",
        "df = pd.DataFrame(dict(x=X[:,0], y=X[:,1], label=y))\n",
        "colors = {0:'red', 1:'blue'}\n",
        "fig, ax = plt.subplots()\n",
        "grouped = df.groupby('label')\n",
        "for key, group in grouped:\n",
        "    group.plot(ax=ax, kind='scatter', x='x', y='y', label=key, color=colors[key])\n",
        "plt.show()"
      ],
      "execution_count": null,
      "outputs": [
        {
          "output_type": "display_data",
          "data": {
            "image/png": "[encoded data removed]",
            "text/plain": [
              "<Figure size 432x288 with 1 Axes>"
            ]
          },
          "metadata": {
            "needs_background": "light"
          }
        }
      ]
    },
    {
      "cell_type": "code",
      "metadata": {
        "id": "SXvBCwcMAO22"
      },
      "source": [
        "#Split the data\n",
        "X_train,X_test,Y_train,Y_test = train_test_split(X,y,test_size = 0.1,random_state = 10, stratify=y)"
      ],
      "execution_count": null,
      "outputs": []
    },
    {
      "cell_type": "markdown",
      "metadata": {
        "id": "DG3PpyyUAO23"
      },
      "source": [
        "#### Creating the model matching our data"
      ]
    },
    {
      "cell_type": "code",
      "metadata": {
        "id": "B6gFoPPmAO23",
        "colab": {
          "base_uri": "https://localhost:8080/"
        },
        "outputId": "5bdad948-e08f-477b-cd1a-d98d0a71426e"
      },
      "source": [
        "model = keras.Sequential()\n",
        "model.add(layers.Dense(units=4, input_shape = (2,),  # 2 features\n",
        "                       activation = \"sigmoid\")) # 4 units in Hidden layer\n",
        "model.add(layers.Dense(units = 4, activation = \"sigmoid\"))\n",
        "model.add(layers.Dense(units = 1, activation = \"sigmoid\"))\n",
        "model.summary()"
      ],
      "execution_count": null,
      "outputs": [
        {
          "output_type": "stream",
          "name": "stdout",
          "text": [
            "Model: \"sequential_3\"\n",
            "_________________________________________________________________\n",
            "Layer (type)                 Output Shape              Param #   \n",
            "=================================================================\n",
            "dense_9 (Dense)              (None, 4)                 12        \n",
            "_________________________________________________________________\n",
            "dense_10 (Dense)             (None, 4)                 20        \n",
            "_________________________________________________________________\n",
            "dense_11 (Dense)             (None, 1)                 5         \n",
            "=================================================================\n",
            "Total params: 37\n",
            "Trainable params: 37\n",
            "Non-trainable params: 0\n",
            "_________________________________________________________________\n"
          ]
        }
      ]
    },
    {
      "cell_type": "code",
      "metadata": {
        "id": "JDs0hsKrAO24"
      },
      "source": [
        "#Compile the model\n",
        "#Optimizer, Loss & Metrics\n",
        "model.compile(optimizer = \"RMSprop\",\n",
        "             loss = \"mean_squared_error\",\n",
        "             metrics = [\"accuracy\"])"
      ],
      "execution_count": null,
      "outputs": []
    },
    {
      "cell_type": "code",
      "metadata": {
        "scrolled": false,
        "id": "DE0iQzGiAO24"
      },
      "source": [
        "#Training of Deep Neural Network\n",
        "history = model.fit(X_train,Y_train,\n",
        "                   epochs = 1000,\n",
        "                   validation_data = (X_test,Y_test))"
      ],
      "execution_count": null,
      "outputs": []
    },
    {
      "cell_type": "code",
      "metadata": {
        "id": "ci_NYZZ8AO25",
        "colab": {
          "base_uri": "https://localhost:8080/"
        },
        "outputId": "d6f1e998-f242-4616-a909-3cebe1a44f37"
      },
      "source": [
        "#Getting the history object keys\n",
        "history.history.keys()"
      ],
      "execution_count": null,
      "outputs": [
        {
          "output_type": "execute_result",
          "data": {
            "text/plain": [
              "dict_keys(['loss', 'accuracy', 'val_loss', 'val_accuracy'])"
            ]
          },
          "metadata": {},
          "execution_count": 25
        }
      ]
    },
    {
      "cell_type": "code",
      "metadata": {
        "id": "wF46AO0CAO25",
        "colab": {
          "base_uri": "https://localhost:8080/",
          "height": 265
        },
        "outputId": "36dea93d-9e3d-499b-ec87-6049590c7fa1"
      },
      "source": [
        "plt.plot(np.arange(1,1001),history.history[\"loss\"],label=\"training loss\")\n",
        "plt.plot(np.arange(1,1001),history.history[\"val_loss\"],label=\"validation loss\")\n",
        "plt.legend()\n",
        "plt.show()"
      ],
      "execution_count": null,
      "outputs": [
        {
          "output_type": "display_data",
          "data": {
            "image/png": "[encoded data removed]",
            "text/plain": [
              "<Figure size 432x288 with 1 Axes>"
            ]
          },
          "metadata": {
            "needs_background": "light"
          }
        }
      ]
    },
    {
      "cell_type": "code",
      "metadata": {
        "id": "ZzHYNfdCAO25",
        "colab": {
          "base_uri": "https://localhost:8080/",
          "height": 268
        },
        "outputId": "00686529-4cc7-4a2c-a10f-139f97ac4f8c"
      },
      "source": [
        "plt.plot(np.arange(1,1001),history.history[\"accuracy\"],label=\"training accuracy\")\n",
        "plt.plot(np.arange(1,1001),history.history[\"val_accuracy\"],label=\"Validation accuracy\")\n",
        "plt.legend()\n",
        "plt.show()"
      ],
      "execution_count": null,
      "outputs": [
        {
          "output_type": "display_data",
          "data": {
            "image/png": "[encoded data removed]",
            "text/plain": [
              "<Figure size 432x288 with 1 Axes>"
            ]
          },
          "metadata": {
            "needs_background": "light"
          }
        }
      ]
    },
    {
      "cell_type": "code",
      "metadata": {
        "id": "fTF64l8FAO26"
      },
      "source": [
        "y_pred_test = model.predict(X_test)\n",
        "y_pred_test"
      ],
      "execution_count": null,
      "outputs": []
    },
    {
      "cell_type": "code",
      "metadata": {
        "scrolled": true,
        "id": "DNoOcJmHAO26"
      },
      "source": [
        "y_pred_test = (model.predict(X_test) > 0.5).astype(\"int32\")\n",
        "y_pred_test"
      ],
      "execution_count": null,
      "outputs": []
    },
    {
      "cell_type": "code",
      "metadata": {
        "colab": {
          "base_uri": "https://localhost:8080/"
        },
        "id": "f1G0jjiJG_vf",
        "outputId": "b8f4105d-2e46-4543-9ee0-98d982e2ecef"
      },
      "source": [
        "from sklearn.metrics import accuracy_score\n",
        "accuracy_score(Y_test,y_pred_test)"
      ],
      "execution_count": null,
      "outputs": [
        {
          "output_type": "execute_result",
          "data": {
            "text/plain": [
              "0.88"
            ]
          },
          "metadata": {},
          "execution_count": 31
        }
      ]
    },
    {
      "cell_type": "code",
      "metadata": {
        "id": "t7mObtMbAO26"
      },
      "source": [
        "'''\n",
        "5 Step Process:\n",
        "1. Prepare the Data\n",
        "2. Split the data into two parts\n",
        "3. Define the Model - Number of units & Total number of layers with input shape\n",
        "4. Configure the Learning - using compile\n",
        "5. Fit the data to Model\n",
        "'''"
      ],
      "execution_count": null,
      "outputs": []
    }
  ]
}