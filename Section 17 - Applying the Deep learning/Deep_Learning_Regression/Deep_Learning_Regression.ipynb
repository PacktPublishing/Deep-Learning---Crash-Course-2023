{
  "nbformat": 4,
  "nbformat_minor": 0,
  "metadata": {
    "colab": {
      "name": "Deep Learning Regression.ipynb",
      "version": "0.3.2",
      "provenance": []
    },
    "kernelspec": {
      "name": "python3",
      "display_name": "Python 3"
    }
  },
  "cells": [
    {
      "cell_type": "markdown",
      "metadata": {
        "id": "qICOQjkH5QNH",
        "colab_type": "text"
      },
      "source": [
        "# Boston Housing Data"
      ]
    },
    {
      "cell_type": "markdown",
      "metadata": {
        "id": "PZ8tRnh85UHU",
        "colab_type": "text"
      },
      "source": [
        "With this dataset, we will attempt to predict the median price of homes in a given Boston suburb in the mid-1970s.\n",
        "And, we predict the values using the given data points about the suburb like,  crime rate, the local property tax rate, etc.\n",
        "\n",
        "The dataset is having total of 506 samples.\n",
        "\n",
        "The 13 features in the input data are as follows:\n",
        "\n",
        "1. Per capita crime rate.\n",
        "2. Proportion of residential land zoned for lots over 25,000 square feet.\n",
        "3. Proportion of non-retail business acres per town.\n",
        "4. Charles River dummy variable (= 1 if tract bounds river; 0 otherwise).\n",
        "5. Nitric oxides concentration (parts per 10 million).\n",
        "6. Average number of rooms per dwelling.\n",
        "7. Proportion of owner-occupied units built prior to 1940.\n",
        "8. Weighted distances to five Boston employment centres.\n",
        "9. Index of accessibility to radial highways.\n",
        "10. Full-value property-tax rate per $10,000.\n",
        "11. Pupil-teacher ratio by town.\n",
        "12. 1000 * (Bk - 0.63) ** 2 where Bk is the proportion of Black people by town.\n",
        "13. % lower status of the population."
      ]
    },
    {
      "cell_type": "code",
      "metadata": {
        "id": "k_P6zUHg42VQ",
        "colab_type": "code",
        "outputId": "0221c856-f0af-4e4f-b1cb-072a322f563d",
        "colab": {
          "base_uri": "https://localhost:8080/",
          "height": 34
        }
      },
      "source": [
        "#Making the code results reproducible\n",
        "import numpy as np\n",
        "import tensorflow as tf\n",
        "import random as rn\n",
        "\n",
        "np.random.seed(42)\n",
        "rn.seed(12345)\n",
        "session_conf = tf.ConfigProto(intra_op_parallelism_threads=1,\n",
        "                              inter_op_parallelism_threads=1)\n",
        "\n",
        "from keras import backend as K\n",
        "\n",
        "\n",
        "tf.set_random_seed(1234)\n",
        "\n",
        "sess = tf.Session(graph=tf.get_default_graph(), config=session_conf)\n",
        "K.set_session(sess)"
      ],
      "execution_count": 0,
      "outputs": [
        {
          "output_type": "stream",
          "text": [
            "Using TensorFlow backend.\n"
          ],
          "name": "stderr"
        }
      ]
    },
    {
      "cell_type": "code",
      "metadata": {
        "id": "kOiKrFq26N7Y",
        "colab_type": "code",
        "colab": {}
      },
      "source": [
        "from keras.datasets import boston_housing\n",
        "import pandas as pd"
      ],
      "execution_count": 0,
      "outputs": []
    },
    {
      "cell_type": "code",
      "metadata": {
        "id": "ubfVzM0I6Wf_",
        "colab_type": "code",
        "colab": {}
      },
      "source": [
        "(train_data,train_targets),(test_data,test_targets) =  boston_housing.load_data()"
      ],
      "execution_count": 0,
      "outputs": []
    },
    {
      "cell_type": "code",
      "metadata": {
        "id": "u14HtDwo6mFh",
        "colab_type": "code",
        "outputId": "10940643-9c81-46a9-fd17-35c2a5e234e7",
        "colab": {
          "base_uri": "https://localhost:8080/",
          "height": 34
        }
      },
      "source": [
        "train_data.shape"
      ],
      "execution_count": 0,
      "outputs": [
        {
          "output_type": "execute_result",
          "data": {
            "text/plain": [
              "(404, 13)"
            ]
          },
          "metadata": {
            "tags": []
          },
          "execution_count": 4
        }
      ]
    },
    {
      "cell_type": "code",
      "metadata": {
        "id": "3v0F3Qvk6o1u",
        "colab_type": "code",
        "outputId": "4b40edbe-3969-4997-ecf3-fb143040aa9f",
        "colab": {
          "base_uri": "https://localhost:8080/",
          "height": 34
        }
      },
      "source": [
        "test_data.shape"
      ],
      "execution_count": 0,
      "outputs": [
        {
          "output_type": "execute_result",
          "data": {
            "text/plain": [
              "(102, 13)"
            ]
          },
          "metadata": {
            "tags": []
          },
          "execution_count": 5
        }
      ]
    },
    {
      "cell_type": "code",
      "metadata": {
        "id": "9bk06QFI6qpG",
        "colab_type": "code",
        "outputId": "40de6c24-ab40-4e15-e4b4-67858b67ed19",
        "colab": {
          "base_uri": "https://localhost:8080/",
          "height": 656
        }
      },
      "source": [
        "train_targets #values in thousands of dollars"
      ],
      "execution_count": 0,
      "outputs": [
        {
          "output_type": "execute_result",
          "data": {
            "text/plain": [
              "array([15.2, 42.3, 50. , 21.1, 17.7, 18.5, 11.3, 15.6, 15.6, 14.4, 12.1,\n",
              "       17.9, 23.1, 19.9, 15.7,  8.8, 50. , 22.5, 24.1, 27.5, 10.9, 30.8,\n",
              "       32.9, 24. , 18.5, 13.3, 22.9, 34.7, 16.6, 17.5, 22.3, 16.1, 14.9,\n",
              "       23.1, 34.9, 25. , 13.9, 13.1, 20.4, 20. , 15.2, 24.7, 22.2, 16.7,\n",
              "       12.7, 15.6, 18.4, 21. , 30.1, 15.1, 18.7,  9.6, 31.5, 24.8, 19.1,\n",
              "       22. , 14.5, 11. , 32. , 29.4, 20.3, 24.4, 14.6, 19.5, 14.1, 14.3,\n",
              "       15.6, 10.5,  6.3, 19.3, 19.3, 13.4, 36.4, 17.8, 13.5, 16.5,  8.3,\n",
              "       14.3, 16. , 13.4, 28.6, 43.5, 20.2, 22. , 23. , 20.7, 12.5, 48.5,\n",
              "       14.6, 13.4, 23.7, 50. , 21.7, 39.8, 38.7, 22.2, 34.9, 22.5, 31.1,\n",
              "       28.7, 46. , 41.7, 21. , 26.6, 15. , 24.4, 13.3, 21.2, 11.7, 21.7,\n",
              "       19.4, 50. , 22.8, 19.7, 24.7, 36.2, 14.2, 18.9, 18.3, 20.6, 24.6,\n",
              "       18.2,  8.7, 44. , 10.4, 13.2, 21.2, 37. , 30.7, 22.9, 20. , 19.3,\n",
              "       31.7, 32. , 23.1, 18.8, 10.9, 50. , 19.6,  5. , 14.4, 19.8, 13.8,\n",
              "       19.6, 23.9, 24.5, 25. , 19.9, 17.2, 24.6, 13.5, 26.6, 21.4, 11.9,\n",
              "       22.6, 19.6,  8.5, 23.7, 23.1, 22.4, 20.5, 23.6, 18.4, 35.2, 23.1,\n",
              "       27.9, 20.6, 23.7, 28. , 13.6, 27.1, 23.6, 20.6, 18.2, 21.7, 17.1,\n",
              "        8.4, 25.3, 13.8, 22.2, 18.4, 20.7, 31.6, 30.5, 20.3,  8.8, 19.2,\n",
              "       19.4, 23.1, 23. , 14.8, 48.8, 22.6, 33.4, 21.1, 13.6, 32.2, 13.1,\n",
              "       23.4, 18.9, 23.9, 11.8, 23.3, 22.8, 19.6, 16.7, 13.4, 22.2, 20.4,\n",
              "       21.8, 26.4, 14.9, 24.1, 23.8, 12.3, 29.1, 21. , 19.5, 23.3, 23.8,\n",
              "       17.8, 11.5, 21.7, 19.9, 25. , 33.4, 28.5, 21.4, 24.3, 27.5, 33.1,\n",
              "       16.2, 23.3, 48.3, 22.9, 22.8, 13.1, 12.7, 22.6, 15. , 15.3, 10.5,\n",
              "       24. , 18.5, 21.7, 19.5, 33.2, 23.2,  5. , 19.1, 12.7, 22.3, 10.2,\n",
              "       13.9, 16.3, 17. , 20.1, 29.9, 17.2, 37.3, 45.4, 17.8, 23.2, 29. ,\n",
              "       22. , 18. , 17.4, 34.6, 20.1, 25. , 15.6, 24.8, 28.2, 21.2, 21.4,\n",
              "       23.8, 31. , 26.2, 17.4, 37.9, 17.5, 20. ,  8.3, 23.9,  8.4, 13.8,\n",
              "        7.2, 11.7, 17.1, 21.6, 50. , 16.1, 20.4, 20.6, 21.4, 20.6, 36.5,\n",
              "        8.5, 24.8, 10.8, 21.9, 17.3, 18.9, 36.2, 14.9, 18.2, 33.3, 21.8,\n",
              "       19.7, 31.6, 24.8, 19.4, 22.8,  7.5, 44.8, 16.8, 18.7, 50. , 50. ,\n",
              "       19.5, 20.1, 50. , 17.2, 20.8, 19.3, 41.3, 20.4, 20.5, 13.8, 16.5,\n",
              "       23.9, 20.6, 31.5, 23.3, 16.8, 14. , 33.8, 36.1, 12.8, 18.3, 18.7,\n",
              "       19.1, 29. , 30.1, 50. , 50. , 22. , 11.9, 37.6, 50. , 22.7, 20.8,\n",
              "       23.5, 27.9, 50. , 19.3, 23.9, 22.6, 15.2, 21.7, 19.2, 43.8, 20.3,\n",
              "       33.2, 19.9, 22.5, 32.7, 22. , 17.1, 19. , 15. , 16.1, 25.1, 23.7,\n",
              "       28.7, 37.2, 22.6, 16.4, 25. , 29.8, 22.1, 17.4, 18.1, 30.3, 17.5,\n",
              "       24.7, 12.6, 26.5, 28.7, 13.3, 10.4, 24.4, 23. , 20. , 17.8,  7. ,\n",
              "       11.8, 24.4, 13.8, 19.4, 25.2, 19.4, 19.4, 29.1])"
            ]
          },
          "metadata": {
            "tags": []
          },
          "execution_count": 6
        }
      ]
    },
    {
      "cell_type": "code",
      "metadata": {
        "id": "ngb4nWjZ6x_2",
        "colab_type": "code",
        "outputId": "4d271f70-f89a-4186-d83b-3f40633635d5",
        "colab": {
          "base_uri": "https://localhost:8080/",
          "height": 242
        }
      },
      "source": [
        "train_data"
      ],
      "execution_count": 0,
      "outputs": [
        {
          "output_type": "execute_result",
          "data": {
            "text/plain": [
              "array([[1.23247e+00, 0.00000e+00, 8.14000e+00, ..., 2.10000e+01,\n",
              "        3.96900e+02, 1.87200e+01],\n",
              "       [2.17700e-02, 8.25000e+01, 2.03000e+00, ..., 1.47000e+01,\n",
              "        3.95380e+02, 3.11000e+00],\n",
              "       [4.89822e+00, 0.00000e+00, 1.81000e+01, ..., 2.02000e+01,\n",
              "        3.75520e+02, 3.26000e+00],\n",
              "       ...,\n",
              "       [3.46600e-02, 3.50000e+01, 6.06000e+00, ..., 1.69000e+01,\n",
              "        3.62250e+02, 7.83000e+00],\n",
              "       [2.14918e+00, 0.00000e+00, 1.95800e+01, ..., 1.47000e+01,\n",
              "        2.61950e+02, 1.57900e+01],\n",
              "       [1.43900e-02, 6.00000e+01, 2.93000e+00, ..., 1.56000e+01,\n",
              "        3.76700e+02, 4.38000e+00]])"
            ]
          },
          "metadata": {
            "tags": []
          },
          "execution_count": 7
        }
      ]
    },
    {
      "cell_type": "markdown",
      "metadata": {
        "id": "-qdSPTe68PmH",
        "colab_type": "text"
      },
      "source": [
        "# Apply Standard Scaler"
      ]
    },
    {
      "cell_type": "code",
      "metadata": {
        "id": "aSCVr-PG69eu",
        "colab_type": "code",
        "colab": {}
      },
      "source": [
        "from sklearn.preprocessing import StandardScaler"
      ],
      "execution_count": 0,
      "outputs": []
    },
    {
      "cell_type": "code",
      "metadata": {
        "id": "Uh9BaqBX8W7S",
        "colab_type": "code",
        "colab": {}
      },
      "source": [
        "#Zero Mean, and Std Deviation = 1\n",
        "ss = StandardScaler()"
      ],
      "execution_count": 0,
      "outputs": []
    },
    {
      "cell_type": "code",
      "metadata": {
        "id": "ZSrjzEAJ8eIu",
        "colab_type": "code",
        "colab": {}
      },
      "source": [
        "transformed_train_data = ss.fit_transform(train_data)\n",
        "transformed_test_data = ss.transform(test_data)"
      ],
      "execution_count": 0,
      "outputs": []
    },
    {
      "cell_type": "code",
      "metadata": {
        "id": "G6U3DK2w8obG",
        "colab_type": "code",
        "outputId": "ecf93633-a3cb-4093-8cf1-c30c0b88de77",
        "colab": {
          "base_uri": "https://localhost:8080/",
          "height": 34
        }
      },
      "source": [
        "np.mean(transformed_train_data)"
      ],
      "execution_count": 0,
      "outputs": [
        {
          "output_type": "execute_result",
          "data": {
            "text/plain": [
              "2.6016254395785847e-15"
            ]
          },
          "metadata": {
            "tags": []
          },
          "execution_count": 11
        }
      ]
    },
    {
      "cell_type": "code",
      "metadata": {
        "id": "NDeD2XOI8sBd",
        "colab_type": "code",
        "outputId": "8957cb3f-2d11-4377-f603-489302cdd3ef",
        "colab": {
          "base_uri": "https://localhost:8080/",
          "height": 34
        }
      },
      "source": [
        "np.std(transformed_train_data)"
      ],
      "execution_count": 0,
      "outputs": [
        {
          "output_type": "execute_result",
          "data": {
            "text/plain": [
              "0.9999999999999993"
            ]
          },
          "metadata": {
            "tags": []
          },
          "execution_count": 12
        }
      ]
    },
    {
      "cell_type": "code",
      "metadata": {
        "id": "ksYGqWbl8vo-",
        "colab_type": "code",
        "colab": {}
      },
      "source": [
        ""
      ],
      "execution_count": 0,
      "outputs": []
    },
    {
      "cell_type": "markdown",
      "metadata": {
        "id": "ErEzQ1T484UI",
        "colab_type": "text"
      },
      "source": [
        "# Building the Neural Networks"
      ]
    },
    {
      "cell_type": "code",
      "metadata": {
        "id": "VNJvrySw88F-",
        "colab_type": "code",
        "colab": {}
      },
      "source": [
        "from keras import models,layers,optimizers,losses"
      ],
      "execution_count": 0,
      "outputs": []
    },
    {
      "cell_type": "code",
      "metadata": {
        "id": "2KWGRT_D9BG9",
        "colab_type": "code",
        "outputId": "e126d7c3-44ac-41e2-f75a-db7c2c7c294e",
        "colab": {
          "base_uri": "https://localhost:8080/",
          "height": 158
        }
      },
      "source": [
        "network = models.Sequential()\n",
        "network.add(layers.Dense(64,activation = 'relu',input_shape = (transformed_train_data.shape[1],)))\n",
        "network.add(layers.Dense(64,activation = 'relu'))\n",
        "network.add(layers.Dense(1))"
      ],
      "execution_count": 0,
      "outputs": [
        {
          "output_type": "stream",
          "text": [
            "WARNING: Logging before flag parsing goes to stderr.\n",
            "W0702 00:19:33.802762 140075361249152 deprecation_wrapper.py:119] From /usr/local/lib/python3.6/dist-packages/keras/backend/tensorflow_backend.py:74: The name tf.get_default_graph is deprecated. Please use tf.compat.v1.get_default_graph instead.\n",
            "\n",
            "W0702 00:19:33.807779 140075361249152 deprecation_wrapper.py:119] From /usr/local/lib/python3.6/dist-packages/keras/backend/tensorflow_backend.py:517: The name tf.placeholder is deprecated. Please use tf.compat.v1.placeholder instead.\n",
            "\n",
            "W0702 00:19:33.813165 140075361249152 deprecation_wrapper.py:119] From /usr/local/lib/python3.6/dist-packages/keras/backend/tensorflow_backend.py:4138: The name tf.random_uniform is deprecated. Please use tf.random.uniform instead.\n",
            "\n"
          ],
          "name": "stderr"
        }
      ]
    },
    {
      "cell_type": "code",
      "metadata": {
        "id": "xRl_zRhS9WTu",
        "colab_type": "code",
        "outputId": "b6d4b7e6-4e3e-4a67-922c-c571922f9adb",
        "colab": {
          "base_uri": "https://localhost:8080/",
          "height": 72
        }
      },
      "source": [
        "network.compile(optimizer = optimizers.RMSprop(),\n",
        "                loss = losses.mean_squared_error,\n",
        "               metrics = ['mae'])"
      ],
      "execution_count": 0,
      "outputs": [
        {
          "output_type": "stream",
          "text": [
            "W0702 00:19:33.888622 140075361249152 deprecation_wrapper.py:119] From /usr/local/lib/python3.6/dist-packages/keras/optimizers.py:790: The name tf.train.Optimizer is deprecated. Please use tf.compat.v1.train.Optimizer instead.\n",
            "\n"
          ],
          "name": "stderr"
        }
      ]
    },
    {
      "cell_type": "markdown",
      "metadata": {
        "id": "yUSPMUPZ9sqE",
        "colab_type": "text"
      },
      "source": [
        "# K-Fold Validation"
      ]
    },
    {
      "cell_type": "markdown",
      "metadata": {
        "id": "8ummP1Sa91z6",
        "colab_type": "text"
      },
      "source": [
        "When we have the very small data set like the one we have.\n",
        "\n",
        "After we split into training data and Valdiation data, we would end up with very small data set for Validation data set.\n",
        "\n",
        "And, the accuracy of thisValidation data set will depend entirely on the data points we choose for validation set.  \n",
        "So the validation set might have high variance with respect to validation split. Thus preventing us to effectively evaluate our model.\n",
        "\n",
        "In Such Situations,\n",
        "We make use of K-Fold Validation.\n",
        "So what we do is,\n",
        "We split the available dataset into K partitions (normally, K = 4 or 5), and instantiating K identical models.\n",
        "We training each one on K – 1 partitions and perform the evaluation on the remaining partition. \n",
        "\n",
        "Finally we arrive at the validation score for the model as the average of the K validation scores obtained."
      ]
    },
    {
      "cell_type": "code",
      "metadata": {
        "id": "OBbcIvYM9o-Q",
        "colab_type": "code",
        "colab": {}
      },
      "source": [
        "data = [1,2,3,4,5,6,7,8,9,10,11,12]\n",
        "k = 6\n",
        "num_samples = len(data)//k"
      ],
      "execution_count": 0,
      "outputs": []
    },
    {
      "cell_type": "code",
      "metadata": {
        "id": "DpD8O8og-SA_",
        "colab_type": "code",
        "outputId": "08149dbd-aaad-4577-e417-c1343187cd02",
        "colab": {
          "base_uri": "https://localhost:8080/",
          "height": 328
        }
      },
      "source": [
        "for i in range(k):\n",
        "  print(\"for data-processing fold No.: \",i)\n",
        "  val_data = data[(i*num_samples):(i+1)*num_samples]\n",
        "  print(\"Validation set for fold :\",i,\" is \",val_data)\n",
        "  train_data = np.concatenate([data[:(i*num_samples)],data[(i+1)*num_samples:]],axis = 0)\n",
        "  print(\"Training data for fold - \",i,\" is  \",train_data)"
      ],
      "execution_count": 0,
      "outputs": [
        {
          "output_type": "stream",
          "text": [
            "for data-processing fold No.:  0\n",
            "Validation set for fold : 0  is  [1, 2]\n",
            "Training data for fold -  0  is   [ 3.  4.  5.  6.  7.  8.  9. 10. 11. 12.]\n",
            "for data-processing fold No.:  1\n",
            "Validation set for fold : 1  is  [3, 4]\n",
            "Training data for fold -  1  is   [ 1  2  5  6  7  8  9 10 11 12]\n",
            "for data-processing fold No.:  2\n",
            "Validation set for fold : 2  is  [5, 6]\n",
            "Training data for fold -  2  is   [ 1  2  3  4  7  8  9 10 11 12]\n",
            "for data-processing fold No.:  3\n",
            "Validation set for fold : 3  is  [7, 8]\n",
            "Training data for fold -  3  is   [ 1  2  3  4  5  6  9 10 11 12]\n",
            "for data-processing fold No.:  4\n",
            "Validation set for fold : 4  is  [9, 10]\n",
            "Training data for fold -  4  is   [ 1  2  3  4  5  6  7  8 11 12]\n",
            "for data-processing fold No.:  5\n",
            "Validation set for fold : 5  is  [11, 12]\n",
            "Training data for fold -  5  is   [ 1.  2.  3.  4.  5.  6.  7.  8.  9. 10.]\n"
          ],
          "name": "stdout"
        }
      ]
    },
    {
      "cell_type": "code",
      "metadata": {
        "id": "YV_t7Myz_SW-",
        "colab_type": "code",
        "outputId": "5a0a60a5-5784-4400-8c2b-4b08df1d2632",
        "colab": {
          "base_uri": "https://localhost:8080/",
          "height": 175
        }
      },
      "source": [
        "k = 4\n",
        "num_samples = len(transformed_train_data)//k\n",
        "num_epochs = 100\n",
        "mae_scores = []\n",
        "\n",
        "for i in range(k):\n",
        "  print(\"Data Processing Fold no. : \",i)\n",
        "  val_data = transformed_train_data[i*num_samples : (i+1)*num_samples]\n",
        "  val_targets = train_targets[i*num_samples : (i+1)*num_samples]\n",
        "  \n",
        "  partial_train_data = np.concatenate([transformed_train_data[:i*num_samples],transformed_train_data[(i+1)*num_samples:]],axis = 0)\n",
        "  partial_train_targets = np.concatenate([train_targets[:i*num_samples],\n",
        "                                         train_targets[(i+1)*num_samples:]],\n",
        "                                        axis = 0)\n",
        "  \n",
        "  network = models.Sequential()\n",
        "  network.add(layers.Dense(64,activation = 'relu',input_shape = (transformed_train_data.shape[1],)))\n",
        "  network.add(layers.Dense(64,activation = 'relu'))\n",
        "  network.add(layers.Dense(1))\n",
        "  \n",
        "  network.compile(optimizer = optimizers.RMSprop(),\n",
        "                 loss = losses.mean_squared_error,\n",
        "                 metrics = ['mae'])\n",
        "  \n",
        "  network.fit(partial_train_data,\n",
        "             partial_train_targets,\n",
        "             epochs = num_epochs,\n",
        "             batch_size = 1,\n",
        "             verbose = 0)\n",
        "  \n",
        "  val_mse,val_mae = network.evaluate(val_data,val_targets,verbose = 0)\n",
        "  mae_scores.append(val_mae)"
      ],
      "execution_count": 0,
      "outputs": [
        {
          "output_type": "stream",
          "text": [
            "Data Processing Fold no. :  0\n"
          ],
          "name": "stdout"
        },
        {
          "output_type": "stream",
          "text": [
            "W0702 00:19:34.193623 140075361249152 deprecation_wrapper.py:119] From /usr/local/lib/python3.6/dist-packages/keras/backend/tensorflow_backend.py:986: The name tf.assign_add is deprecated. Please use tf.compat.v1.assign_add instead.\n",
            "\n",
            "W0702 00:19:34.202530 140075361249152 deprecation_wrapper.py:119] From /usr/local/lib/python3.6/dist-packages/keras/backend/tensorflow_backend.py:973: The name tf.assign is deprecated. Please use tf.compat.v1.assign instead.\n",
            "\n"
          ],
          "name": "stderr"
        },
        {
          "output_type": "stream",
          "text": [
            "Data Processing Fold no. :  1\n",
            "Data Processing Fold no. :  2\n",
            "Data Processing Fold no. :  3\n"
          ],
          "name": "stdout"
        }
      ]
    },
    {
      "cell_type": "code",
      "metadata": {
        "id": "lOhAunc8CDst",
        "colab_type": "code",
        "outputId": "15f9c8be-7645-48b4-a589-eb5c7a968ca4",
        "colab": {
          "base_uri": "https://localhost:8080/",
          "height": 34
        }
      },
      "source": [
        "mae_scores"
      ],
      "execution_count": 0,
      "outputs": [
        {
          "output_type": "execute_result",
          "data": {
            "text/plain": [
              "[2.0579718599225036, 2.463931192265879, 2.938631756470935, 2.5719722721836353]"
            ]
          },
          "metadata": {
            "tags": []
          },
          "execution_count": 19
        }
      ]
    },
    {
      "cell_type": "code",
      "metadata": {
        "id": "KXRIDqTYDL4l",
        "colab_type": "code",
        "outputId": "edb547d6-6855-4dd1-b0db-59de17fbd584",
        "colab": {
          "base_uri": "https://localhost:8080/",
          "height": 34
        }
      },
      "source": [
        "np.mean(mae_scores)"
      ],
      "execution_count": 0,
      "outputs": [
        {
          "output_type": "execute_result",
          "data": {
            "text/plain": [
              "2.5081267702107386"
            ]
          },
          "metadata": {
            "tags": []
          },
          "execution_count": 20
        }
      ]
    },
    {
      "cell_type": "code",
      "metadata": {
        "id": "uUIAuk4JEB9h",
        "colab_type": "code",
        "outputId": "23e6597d-b240-4ae8-8817-59ff5a072c61",
        "colab": {
          "base_uri": "https://localhost:8080/",
          "height": 86
        }
      },
      "source": [
        "K.clear_session()\n",
        "\n",
        "k = 4\n",
        "num_samples = len(transformed_train_data)//k\n",
        "num_epochs = 500\n",
        "mae_scores = []\n",
        "\n",
        "for i in range(k):\n",
        "  print(\"Data Processing Fold no. : \",i)\n",
        "  val_data = transformed_train_data[i*num_samples : (i+1)*num_samples]\n",
        "  val_targets = train_targets[i*num_samples : (i+1)*num_samples]\n",
        "  \n",
        "  partial_train_data = np.concatenate([transformed_train_data[:i*num_samples],transformed_train_data[(i+1)*num_samples:]],axis = 0)\n",
        "  partial_train_targets = np.concatenate([train_targets[:i*num_samples],\n",
        "                                         train_targets[(i+1)*num_samples:]],\n",
        "                                        axis = 0)\n",
        "  \n",
        "  network = models.Sequential()\n",
        "  network.add(layers.Dense(64,activation = 'relu',input_shape = (transformed_train_data.shape[1],)))\n",
        "  network.add(layers.Dense(64,activation = 'relu'))\n",
        "  network.add(layers.Dense(1))\n",
        "  \n",
        "  network.compile(optimizer = optimizers.RMSprop(),\n",
        "                 loss = losses.mean_squared_error,\n",
        "                 metrics = ['mae'])\n",
        "  \n",
        "  history = network.fit(partial_train_data,\n",
        "             partial_train_targets,\n",
        "             epochs = num_epochs,\n",
        "             batch_size = 1,\n",
        "             validation_data = (val_data,val_targets),\n",
        "             verbose = 0)\n",
        "  \n",
        "  val_mae = history.history['val_mean_absolute_error']\n",
        "  mae_scores.append(val_mae)"
      ],
      "execution_count": 0,
      "outputs": [
        {
          "output_type": "stream",
          "text": [
            "Data Processing Fold no. :  0\n",
            "Data Processing Fold no. :  1\n",
            "Data Processing Fold no. :  2\n",
            "Data Processing Fold no. :  3\n"
          ],
          "name": "stdout"
        }
      ]
    },
    {
      "cell_type": "code",
      "metadata": {
        "id": "wPlV4lvcEy2w",
        "colab_type": "code",
        "colab": {}
      },
      "source": [
        "average_mae_history = [np.mean([x[i] for x in mae_scores]) for i in range(num_epochs)]"
      ],
      "execution_count": 0,
      "outputs": []
    },
    {
      "cell_type": "code",
      "metadata": {
        "id": "-IUiVFXPHk9I",
        "colab_type": "code",
        "outputId": "15e02987-3d83-43ea-dc55-78b770e29a45",
        "colab": {
          "base_uri": "https://localhost:8080/",
          "height": 283
        }
      },
      "source": [
        "import matplotlib.pyplot as plt\n",
        "\n",
        "plt.plot(range(1, len(average_mae_history) + 1), average_mae_history)\n",
        "plt.xlabel('Epochs')\n",
        "plt.ylabel('Validation MAE')\n",
        "plt.show()"
      ],
      "execution_count": 0,
      "outputs": [
        {
          "output_type": "display_data",
          "data": {
            "image/png": "[encoded data removed]",
            "text/plain": [
              "<Figure size 432x288 with 1 Axes>"
            ]
          },
          "metadata": {
            "tags": []
          }
        }
      ]
    },
    {
      "cell_type": "code",
      "metadata": {
        "id": "ExUnT6VRHqRu",
        "colab_type": "code",
        "outputId": "6c2211b8-80ba-4518-f2bb-3887f9c9f081",
        "colab": {
          "base_uri": "https://localhost:8080/",
          "height": 283
        }
      },
      "source": [
        "def smooth_curve(points, factor=0.9):\n",
        "  smoothed_points = []\n",
        "  for point in points:\n",
        "    if smoothed_points:\n",
        "      previous = smoothed_points[-1]\n",
        "      smoothed_points.append(previous * factor + point * (1 - factor))\n",
        "    else:\n",
        "      smoothed_points.append(point)\n",
        "  return smoothed_points\n",
        "\n",
        "smooth_mae_history = smooth_curve(average_mae_history[10:])\n",
        "\n",
        "plt.plot(range(1, len(smooth_mae_history) + 1), smooth_mae_history)\n",
        "plt.xlabel('Epochs')\n",
        "plt.ylabel('Validation MAE')\n",
        "plt.show()"
      ],
      "execution_count": 0,
      "outputs": [
        {
          "output_type": "display_data",
          "data": {
            "image/png": "[encoded data removed]",
            "text/plain": [
              "<Figure size 432x288 with 1 Axes>"
            ]
          },
          "metadata": {
            "tags": []
          }
        }
      ]
    },
    {
      "cell_type": "code",
      "metadata": {
        "id": "lVmyuiedHyp0",
        "colab_type": "code",
        "outputId": "cf260627-bc40-4eb5-c4cd-7d96811ad88c",
        "colab": {
          "base_uri": "https://localhost:8080/",
          "height": 283
        }
      },
      "source": [
        "def smooth_curve(points, factor=0.9):\n",
        "  smoothed_points = []\n",
        "  for point in points:\n",
        "    if smoothed_points:\n",
        "      previous = smoothed_points[-1]\n",
        "      smoothed_points.append(previous * factor + point * (1 - factor))\n",
        "    else:\n",
        "      smoothed_points.append(point)\n",
        "  return smoothed_points\n",
        "\n",
        "smooth_mae_history = smooth_curve(average_mae_history[10:])\n",
        "\n",
        "plt.plot(range(40,60), smooth_mae_history[40:60])\n",
        "plt.xlabel('Epochs')\n",
        "plt.ylabel('Validation MAE')\n",
        "plt.show()"
      ],
      "execution_count": 0,
      "outputs": [
        {
          "output_type": "display_data",
          "data": {
            "image/png": "[encoded data removed]",
            "text/plain": [
              "<Figure size 432x288 with 1 Axes>"
            ]
          },
          "metadata": {
            "tags": []
          }
        }
      ]
    },
    {
      "cell_type": "code",
      "metadata": {
        "id": "U-mjxnPZIAAU",
        "colab_type": "code",
        "outputId": "5b6b3749-7ae5-4f3b-8158-af78925b278b",
        "colab": {
          "base_uri": "https://localhost:8080/",
          "height": 34
        }
      },
      "source": [
        "  network = models.Sequential()\n",
        "  network.add(layers.Dense(64, activation = 'relu',input_shape  = (transformed_train_data.shape[1],)))\n",
        "  network.add(layers.Dense(64,activation = 'relu'))\n",
        "  network.add(layers.Dense(1))\n",
        "  network.compile(optimizer = 'rmsprop',\n",
        "               loss = losses.mean_squared_error,\n",
        "               metrics = ['mae'])\n",
        "  history = network.fit(transformed_train_data,\n",
        "             train_targets,\n",
        "             epochs = 41,\n",
        "             batch_size = 16,\n",
        "             verbose = 0)\n",
        "  test_mse_score, test_mae_score = network.evaluate(transformed_test_data, test_targets)"
      ],
      "execution_count": 0,
      "outputs": [
        {
          "output_type": "stream",
          "text": [
            "102/102 [==============================] - 0s 989us/step\n"
          ],
          "name": "stdout"
        }
      ]
    },
    {
      "cell_type": "code",
      "metadata": {
        "id": "-pdY3z8hILFV",
        "colab_type": "code",
        "outputId": "f4d0f9eb-fcbf-49ee-df2b-56905270d5b9",
        "colab": {
          "base_uri": "https://localhost:8080/",
          "height": 34
        }
      },
      "source": [
        "test_mae_score"
      ],
      "execution_count": 0,
      "outputs": [
        {
          "output_type": "execute_result",
          "data": {
            "text/plain": [
              "3.155978193470076"
            ]
          },
          "metadata": {
            "tags": []
          },
          "execution_count": 27
        }
      ]
    },
    {
      "cell_type": "code",
      "metadata": {
        "id": "pite2KSHIQ3T",
        "colab_type": "code",
        "colab": {}
      },
      "source": [
        ""
      ],
      "execution_count": 0,
      "outputs": []
    }
  ]
}