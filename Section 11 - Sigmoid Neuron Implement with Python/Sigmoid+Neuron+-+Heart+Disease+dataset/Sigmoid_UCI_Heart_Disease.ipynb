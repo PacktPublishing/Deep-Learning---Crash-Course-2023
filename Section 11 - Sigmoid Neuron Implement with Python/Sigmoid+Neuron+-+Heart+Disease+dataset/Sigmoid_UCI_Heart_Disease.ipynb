{
  "nbformat": 4,
  "nbformat_minor": 0,
  "metadata": {
    "colab": {
      "name": "Sigmoid - UCI Heart Disease.ipynb",
      "version": "0.3.2",
      "provenance": [],
      "collapsed_sections": []
    },
    "kernelspec": {
      "name": "python3",
      "display_name": "Python 3"
    }
  },
  "cells": [
    {
      "cell_type": "markdown",
      "metadata": {
        "id": "IMC3ZN9rkoLf",
        "colab_type": "text"
      },
      "source": [
        "### Downloading the Dataset"
      ]
    },
    {
      "cell_type": "code",
      "metadata": {
        "id": "DQwE1XL-iQCB",
        "colab_type": "code",
        "outputId": "48779a3b-a76d-4ff5-9cd1-a3b05935c4b8",
        "colab": {
          "base_uri": "https://localhost:8080/",
          "height": 383
        }
      },
      "source": [
        "#importing the file\n",
        "#This will download the file to google colab notebook, else you can load manually in your jupyter notebook\n",
        "!wget https://www.dropbox.com/s/iokr5a2ryi4cw43/heart.csv"
      ],
      "execution_count": 0,
      "outputs": [
        {
          "output_type": "stream",
          "text": [
            "--2019-06-29 03:55:55--  https://www.dropbox.com/s/iokr5a2ryi4cw43/heart.csv\n",
            "Resolving www.dropbox.com (www.dropbox.com)... 162.125.9.1, 2620:100:6031:1::a27d:5101\n",
            "Connecting to www.dropbox.com (www.dropbox.com)|162.125.9.1|:443... connected.\n",
            "HTTP request sent, awaiting response... 301 Moved Permanently\n",
            "Location: /s/raw/iokr5a2ryi4cw43/heart.csv [following]\n",
            "--2019-06-29 03:55:55--  https://www.dropbox.com/s/raw/iokr5a2ryi4cw43/heart.csv\n",
            "Reusing existing connection to www.dropbox.com:443.\n",
            "HTTP request sent, awaiting response... 302 Found\n",
            "Location: https://uc6efef6ce24b0335e63391160f9.dl.dropboxusercontent.com/cd/0/inline/Ajt107_PWQW4hR8_A-p28aTAzFaOvgvAffhvuEmhR_0FvbFTUxYHS_pxQ0uCpEFjIHKsI7Dt7hTTg1uVt2sT4JIusyc2gvJVBFGCO5mDV6tcdQ/file# [following]\n",
            "--2019-06-29 03:55:55--  https://uc6efef6ce24b0335e63391160f9.dl.dropboxusercontent.com/cd/0/inline/Ajt107_PWQW4hR8_A-p28aTAzFaOvgvAffhvuEmhR_0FvbFTUxYHS_pxQ0uCpEFjIHKsI7Dt7hTTg1uVt2sT4JIusyc2gvJVBFGCO5mDV6tcdQ/file\n",
            "Resolving uc6efef6ce24b0335e63391160f9.dl.dropboxusercontent.com (uc6efef6ce24b0335e63391160f9.dl.dropboxusercontent.com)... 162.125.9.6, 2620:100:601b:6::a27d:806\n",
            "Connecting to uc6efef6ce24b0335e63391160f9.dl.dropboxusercontent.com (uc6efef6ce24b0335e63391160f9.dl.dropboxusercontent.com)|162.125.9.6|:443... connected.\n",
            "HTTP request sent, awaiting response... 200 OK\n",
            "Length: 11328 (11K) [text/plain]\n",
            "Saving to: ‘heart.csv’\n",
            "\n",
            "heart.csv           100%[===================>]  11.06K  --.-KB/s    in 0s      \n",
            "\n",
            "2019-06-29 03:55:56 (220 MB/s) - ‘heart.csv’ saved [11328/11328]\n",
            "\n"
          ],
          "name": "stdout"
        }
      ]
    },
    {
      "cell_type": "code",
      "metadata": {
        "id": "SwWjyeqljRPj",
        "colab_type": "code",
        "outputId": "375ae7ed-68b0-4886-d246-45554b01a994",
        "colab": {
          "base_uri": "https://localhost:8080/",
          "height": 34
        }
      },
      "source": [
        "!ls"
      ],
      "execution_count": 0,
      "outputs": [
        {
          "output_type": "stream",
          "text": [
            "heart.csv  sample_data\n"
          ],
          "name": "stdout"
        }
      ]
    },
    {
      "cell_type": "markdown",
      "metadata": {
        "id": "j7131IFw4ole",
        "colab_type": "text"
      },
      "source": [
        "# Sigmoid"
      ]
    },
    {
      "cell_type": "code",
      "metadata": {
        "id": "4v-xc7cdmP6_",
        "colab_type": "code",
        "colab": {}
      },
      "source": [
        "import numpy as np\n",
        "import pandas as pd"
      ],
      "execution_count": 0,
      "outputs": []
    },
    {
      "cell_type": "code",
      "metadata": {
        "id": "nrWmG9irmU2n",
        "colab_type": "code",
        "outputId": "09b4af3f-c7d4-40bd-befd-7c97a0abd602",
        "colab": {
          "base_uri": "https://localhost:8080/",
          "height": 198
        }
      },
      "source": [
        "data = pd.read_csv('heart.csv') #If you are running in Local PC, make sure you have the csv file in same folder of your program else specify the path\n",
        "data.head()"
      ],
      "execution_count": 0,
      "outputs": [
        {
          "output_type": "execute_result",
          "data": {
            "text/html": [
              "<div>\n",
              "<style scoped>\n",
              "    .dataframe tbody tr th:only-of-type {\n",
              "        vertical-align: middle;\n",
              "    }\n",
              "\n",
              "    .dataframe tbody tr th {\n",
              "        vertical-align: top;\n",
              "    }\n",
              "\n",
              "    .dataframe thead th {\n",
              "        text-align: right;\n",
              "    }\n",
              "</style>\n",
              "<table border=\"1\" class=\"dataframe\">\n",
              "  <thead>\n",
              "    <tr style=\"text-align: right;\">\n",
              "      <th></th>\n",
              "      <th>age</th>\n",
              "      <th>sex</th>\n",
              "      <th>cp</th>\n",
              "      <th>trestbps</th>\n",
              "      <th>chol</th>\n",
              "      <th>fbs</th>\n",
              "      <th>restecg</th>\n",
              "      <th>thalach</th>\n",
              "      <th>exang</th>\n",
              "      <th>oldpeak</th>\n",
              "      <th>slope</th>\n",
              "      <th>ca</th>\n",
              "      <th>thal</th>\n",
              "      <th>target</th>\n",
              "    </tr>\n",
              "  </thead>\n",
              "  <tbody>\n",
              "    <tr>\n",
              "      <th>0</th>\n",
              "      <td>63</td>\n",
              "      <td>1</td>\n",
              "      <td>3</td>\n",
              "      <td>145</td>\n",
              "      <td>233</td>\n",
              "      <td>1</td>\n",
              "      <td>0</td>\n",
              "      <td>150</td>\n",
              "      <td>0</td>\n",
              "      <td>2.3</td>\n",
              "      <td>0</td>\n",
              "      <td>0</td>\n",
              "      <td>1</td>\n",
              "      <td>1</td>\n",
              "    </tr>\n",
              "    <tr>\n",
              "      <th>1</th>\n",
              "      <td>37</td>\n",
              "      <td>1</td>\n",
              "      <td>2</td>\n",
              "      <td>130</td>\n",
              "      <td>250</td>\n",
              "      <td>0</td>\n",
              "      <td>1</td>\n",
              "      <td>187</td>\n",
              "      <td>0</td>\n",
              "      <td>3.5</td>\n",
              "      <td>0</td>\n",
              "      <td>0</td>\n",
              "      <td>2</td>\n",
              "      <td>1</td>\n",
              "    </tr>\n",
              "    <tr>\n",
              "      <th>2</th>\n",
              "      <td>41</td>\n",
              "      <td>0</td>\n",
              "      <td>1</td>\n",
              "      <td>130</td>\n",
              "      <td>204</td>\n",
              "      <td>0</td>\n",
              "      <td>0</td>\n",
              "      <td>172</td>\n",
              "      <td>0</td>\n",
              "      <td>1.4</td>\n",
              "      <td>2</td>\n",
              "      <td>0</td>\n",
              "      <td>2</td>\n",
              "      <td>1</td>\n",
              "    </tr>\n",
              "    <tr>\n",
              "      <th>3</th>\n",
              "      <td>56</td>\n",
              "      <td>1</td>\n",
              "      <td>1</td>\n",
              "      <td>120</td>\n",
              "      <td>236</td>\n",
              "      <td>0</td>\n",
              "      <td>1</td>\n",
              "      <td>178</td>\n",
              "      <td>0</td>\n",
              "      <td>0.8</td>\n",
              "      <td>2</td>\n",
              "      <td>0</td>\n",
              "      <td>2</td>\n",
              "      <td>1</td>\n",
              "    </tr>\n",
              "    <tr>\n",
              "      <th>4</th>\n",
              "      <td>57</td>\n",
              "      <td>0</td>\n",
              "      <td>0</td>\n",
              "      <td>120</td>\n",
              "      <td>354</td>\n",
              "      <td>0</td>\n",
              "      <td>1</td>\n",
              "      <td>163</td>\n",
              "      <td>1</td>\n",
              "      <td>0.6</td>\n",
              "      <td>2</td>\n",
              "      <td>0</td>\n",
              "      <td>2</td>\n",
              "      <td>1</td>\n",
              "    </tr>\n",
              "  </tbody>\n",
              "</table>\n",
              "</div>"
            ],
            "text/plain": [
              "   age  sex  cp  trestbps  chol  fbs  ...  exang  oldpeak  slope  ca  thal  target\n",
              "0   63    1   3       145   233    1  ...      0      2.3      0   0     1       1\n",
              "1   37    1   2       130   250    0  ...      0      3.5      0   0     2       1\n",
              "2   41    0   1       130   204    0  ...      0      1.4      2   0     2       1\n",
              "3   56    1   1       120   236    0  ...      0      0.8      2   0     2       1\n",
              "4   57    0   0       120   354    0  ...      1      0.6      2   0     2       1\n",
              "\n",
              "[5 rows x 14 columns]"
            ]
          },
          "metadata": {
            "tags": []
          },
          "execution_count": 4
        }
      ]
    },
    {
      "cell_type": "code",
      "metadata": {
        "id": "LnhRAs85mZUL",
        "colab_type": "code",
        "colab": {}
      },
      "source": [
        "X = data.drop('target',axis = 1)\n",
        "Y = data['target']"
      ],
      "execution_count": 0,
      "outputs": []
    },
    {
      "cell_type": "code",
      "metadata": {
        "id": "scmDdPBUmg6v",
        "colab_type": "code",
        "outputId": "551f47ee-0dad-4213-b49e-2044db449d51",
        "colab": {
          "base_uri": "https://localhost:8080/",
          "height": 198
        }
      },
      "source": [
        "X.head()"
      ],
      "execution_count": 0,
      "outputs": [
        {
          "output_type": "execute_result",
          "data": {
            "text/html": [
              "<div>\n",
              "<style scoped>\n",
              "    .dataframe tbody tr th:only-of-type {\n",
              "        vertical-align: middle;\n",
              "    }\n",
              "\n",
              "    .dataframe tbody tr th {\n",
              "        vertical-align: top;\n",
              "    }\n",
              "\n",
              "    .dataframe thead th {\n",
              "        text-align: right;\n",
              "    }\n",
              "</style>\n",
              "<table border=\"1\" class=\"dataframe\">\n",
              "  <thead>\n",
              "    <tr style=\"text-align: right;\">\n",
              "      <th></th>\n",
              "      <th>age</th>\n",
              "      <th>sex</th>\n",
              "      <th>cp</th>\n",
              "      <th>trestbps</th>\n",
              "      <th>chol</th>\n",
              "      <th>fbs</th>\n",
              "      <th>restecg</th>\n",
              "      <th>thalach</th>\n",
              "      <th>exang</th>\n",
              "      <th>oldpeak</th>\n",
              "      <th>slope</th>\n",
              "      <th>ca</th>\n",
              "      <th>thal</th>\n",
              "    </tr>\n",
              "  </thead>\n",
              "  <tbody>\n",
              "    <tr>\n",
              "      <th>0</th>\n",
              "      <td>63</td>\n",
              "      <td>1</td>\n",
              "      <td>3</td>\n",
              "      <td>145</td>\n",
              "      <td>233</td>\n",
              "      <td>1</td>\n",
              "      <td>0</td>\n",
              "      <td>150</td>\n",
              "      <td>0</td>\n",
              "      <td>2.3</td>\n",
              "      <td>0</td>\n",
              "      <td>0</td>\n",
              "      <td>1</td>\n",
              "    </tr>\n",
              "    <tr>\n",
              "      <th>1</th>\n",
              "      <td>37</td>\n",
              "      <td>1</td>\n",
              "      <td>2</td>\n",
              "      <td>130</td>\n",
              "      <td>250</td>\n",
              "      <td>0</td>\n",
              "      <td>1</td>\n",
              "      <td>187</td>\n",
              "      <td>0</td>\n",
              "      <td>3.5</td>\n",
              "      <td>0</td>\n",
              "      <td>0</td>\n",
              "      <td>2</td>\n",
              "    </tr>\n",
              "    <tr>\n",
              "      <th>2</th>\n",
              "      <td>41</td>\n",
              "      <td>0</td>\n",
              "      <td>1</td>\n",
              "      <td>130</td>\n",
              "      <td>204</td>\n",
              "      <td>0</td>\n",
              "      <td>0</td>\n",
              "      <td>172</td>\n",
              "      <td>0</td>\n",
              "      <td>1.4</td>\n",
              "      <td>2</td>\n",
              "      <td>0</td>\n",
              "      <td>2</td>\n",
              "    </tr>\n",
              "    <tr>\n",
              "      <th>3</th>\n",
              "      <td>56</td>\n",
              "      <td>1</td>\n",
              "      <td>1</td>\n",
              "      <td>120</td>\n",
              "      <td>236</td>\n",
              "      <td>0</td>\n",
              "      <td>1</td>\n",
              "      <td>178</td>\n",
              "      <td>0</td>\n",
              "      <td>0.8</td>\n",
              "      <td>2</td>\n",
              "      <td>0</td>\n",
              "      <td>2</td>\n",
              "    </tr>\n",
              "    <tr>\n",
              "      <th>4</th>\n",
              "      <td>57</td>\n",
              "      <td>0</td>\n",
              "      <td>0</td>\n",
              "      <td>120</td>\n",
              "      <td>354</td>\n",
              "      <td>0</td>\n",
              "      <td>1</td>\n",
              "      <td>163</td>\n",
              "      <td>1</td>\n",
              "      <td>0.6</td>\n",
              "      <td>2</td>\n",
              "      <td>0</td>\n",
              "      <td>2</td>\n",
              "    </tr>\n",
              "  </tbody>\n",
              "</table>\n",
              "</div>"
            ],
            "text/plain": [
              "   age  sex  cp  trestbps  chol  fbs  ...  thalach  exang  oldpeak  slope  ca  thal\n",
              "0   63    1   3       145   233    1  ...      150      0      2.3      0   0     1\n",
              "1   37    1   2       130   250    0  ...      187      0      3.5      0   0     2\n",
              "2   41    0   1       130   204    0  ...      172      0      1.4      2   0     2\n",
              "3   56    1   1       120   236    0  ...      178      0      0.8      2   0     2\n",
              "4   57    0   0       120   354    0  ...      163      1      0.6      2   0     2\n",
              "\n",
              "[5 rows x 13 columns]"
            ]
          },
          "metadata": {
            "tags": []
          },
          "execution_count": 6
        }
      ]
    },
    {
      "cell_type": "code",
      "metadata": {
        "id": "TiE51pIcmi9E",
        "colab_type": "code",
        "outputId": "66c71886-3d6a-4a52-e41d-8d3f4ac06a76",
        "colab": {
          "base_uri": "https://localhost:8080/",
          "height": 121
        }
      },
      "source": [
        "Y.head()"
      ],
      "execution_count": 0,
      "outputs": [
        {
          "output_type": "execute_result",
          "data": {
            "text/plain": [
              "0    1\n",
              "1    1\n",
              "2    1\n",
              "3    1\n",
              "4    1\n",
              "Name: target, dtype: int64"
            ]
          },
          "metadata": {
            "tags": []
          },
          "execution_count": 7
        }
      ]
    },
    {
      "cell_type": "markdown",
      "metadata": {
        "id": "o2M2rMm5m0hA",
        "colab_type": "text"
      },
      "source": [
        "$S_{w, b}(x) = \\frac{1}{1 + e^{-(wx + b)}}$"
      ]
    },
    {
      "cell_type": "code",
      "metadata": {
        "id": "1g5hI9npmkuD",
        "colab_type": "code",
        "outputId": "0dcb7321-96ba-4349-f982-b031b906a7fd",
        "colab": {
          "base_uri": "https://localhost:8080/",
          "height": 34
        }
      },
      "source": [
        "'''\n",
        "if weighted average z = wx+b (Perceptron)\n",
        "then, Sigmoid function = 1/(1+e^(-z))\n",
        "'''"
      ],
      "execution_count": 0,
      "outputs": [
        {
          "output_type": "execute_result",
          "data": {
            "text/plain": [
              "'\\nif weighted average z = wx+b (Perceptron)\\nthen, Sigmoid function = 1/(1+e^(-z))\\n'"
            ]
          },
          "metadata": {
            "tags": []
          },
          "execution_count": 8
        }
      ]
    },
    {
      "cell_type": "code",
      "metadata": {
        "id": "LqjY54iVnLiW",
        "colab_type": "code",
        "outputId": "4e878280-3220-4023-bb7c-849ef600f8c1",
        "colab": {
          "base_uri": "https://localhost:8080/",
          "height": 34
        }
      },
      "source": [
        "np.min(X['age']),np.max(X['age'])"
      ],
      "execution_count": 0,
      "outputs": [
        {
          "output_type": "execute_result",
          "data": {
            "text/plain": [
              "(29, 77)"
            ]
          },
          "metadata": {
            "tags": []
          },
          "execution_count": 9
        }
      ]
    },
    {
      "cell_type": "code",
      "metadata": {
        "id": "8ZSXoR_RnThz",
        "colab_type": "code",
        "colab": {}
      },
      "source": [
        "import matplotlib.pyplot as plt"
      ],
      "execution_count": 0,
      "outputs": []
    },
    {
      "cell_type": "code",
      "metadata": {
        "id": "YbGxETjGny09",
        "colab_type": "code",
        "outputId": "25aa2752-1eff-46db-dfa0-25854eb39107",
        "colab": {
          "base_uri": "https://localhost:8080/",
          "height": 300
        }
      },
      "source": [
        "plt.plot(X.T,'*')\n",
        "plt.xticks(rotation = 'vertical');"
      ],
      "execution_count": 0,
      "outputs": [
        {
          "output_type": "display_data",
          "data": {
            "image/png": "[encoded data removed]",
            "text/plain": [
              "<Figure size 432x288 with 1 Axes>"
            ]
          },
          "metadata": {
            "tags": []
          }
        }
      ]
    },
    {
      "cell_type": "code",
      "metadata": {
        "id": "_ds05DYNn1QU",
        "colab_type": "code",
        "colab": {}
      },
      "source": [
        ""
      ],
      "execution_count": 0,
      "outputs": []
    },
    {
      "cell_type": "markdown",
      "metadata": {
        "id": "bC11lJraoBeR",
        "colab_type": "text"
      },
      "source": [
        "## Data Standardization"
      ]
    },
    {
      "cell_type": "code",
      "metadata": {
        "id": "i1gVkc5ooDV-",
        "colab_type": "code",
        "outputId": "1547813d-a290-43c7-cf0d-755eedd8734d",
        "colab": {
          "base_uri": "https://localhost:8080/",
          "height": 54
        }
      },
      "source": [
        "'''\n",
        "When we have features which has large difference between them, for them to contribute to same model equally is very difficult\n",
        "\n",
        "Hence we perform Data Standardization such that, the data has two properties.\n",
        "1. mean = 0\n",
        "2. Std Deviation = 1\n",
        "'''"
      ],
      "execution_count": 0,
      "outputs": [
        {
          "output_type": "execute_result",
          "data": {
            "text/plain": [
              "'\\nWhen we have features which has large difference between them, for them to contribute to same model equally is very difficult\\n\\nHence we perform Data Standardization such that, the data has two properties.\\n1. mean = 0\\n2. Std Deviation = 1\\n'"
            ]
          },
          "metadata": {
            "tags": []
          },
          "execution_count": 12
        }
      ]
    },
    {
      "cell_type": "code",
      "metadata": {
        "id": "HXpAHPUdocxB",
        "colab_type": "code",
        "colab": {}
      },
      "source": [
        "from sklearn.preprocessing import StandardScaler"
      ],
      "execution_count": 0,
      "outputs": []
    },
    {
      "cell_type": "code",
      "metadata": {
        "id": "jtXBPhJTohlN",
        "colab_type": "code",
        "outputId": "7b21274a-50aa-411c-d730-e6b4ed65f013",
        "colab": {
          "base_uri": "https://localhost:8080/",
          "height": 1000
        }
      },
      "source": [
        "np.random.seed(6)\n",
        "R = np.random.random([100,1])\n",
        "R"
      ],
      "execution_count": 0,
      "outputs": [
        {
          "output_type": "execute_result",
          "data": {
            "text/plain": [
              "array([[0.89286015],\n",
              "       [0.33197981],\n",
              "       [0.82122912],\n",
              "       [0.04169663],\n",
              "       [0.10765668],\n",
              "       [0.59505206],\n",
              "       [0.52981736],\n",
              "       [0.41880743],\n",
              "       [0.33540785],\n",
              "       [0.62251943],\n",
              "       [0.43814143],\n",
              "       [0.73588211],\n",
              "       [0.51803641],\n",
              "       [0.5788586 ],\n",
              "       [0.6453551 ],\n",
              "       [0.99022427],\n",
              "       [0.8198582 ],\n",
              "       [0.41320093],\n",
              "       [0.87626766],\n",
              "       [0.82375943],\n",
              "       [0.05447451],\n",
              "       [0.71863724],\n",
              "       [0.80217056],\n",
              "       [0.73640664],\n",
              "       [0.70913175],\n",
              "       [0.54093685],\n",
              "       [0.12482417],\n",
              "       [0.9576473 ],\n",
              "       [0.4032563 ],\n",
              "       [0.21695116],\n",
              "       [0.71727585],\n",
              "       [0.99420744],\n",
              "       [0.25561406],\n",
              "       [0.67130943],\n",
              "       [0.59900591],\n",
              "       [0.71733215],\n",
              "       [0.93734953],\n",
              "       [0.35180977],\n",
              "       [0.2536341 ],\n",
              "       [0.40247251],\n",
              "       [0.74651072],\n",
              "       [0.72407057],\n",
              "       [0.4061078 ],\n",
              "       [0.98937985],\n",
              "       [0.45049928],\n",
              "       [0.37380843],\n",
              "       [0.70962861],\n",
              "       [0.08245855],\n",
              "       [0.39837292],\n",
              "       [0.77088097],\n",
              "       [0.76475098],\n",
              "       [0.28385938],\n",
              "       [0.18954219],\n",
              "       [0.47125096],\n",
              "       [0.33480604],\n",
              "       [0.73473504],\n",
              "       [0.18910712],\n",
              "       [0.33110407],\n",
              "       [0.84422842],\n",
              "       [0.61502403],\n",
              "       [0.88526408],\n",
              "       [0.97655302],\n",
              "       [0.83690859],\n",
              "       [0.18082463],\n",
              "       [0.61841051],\n",
              "       [0.47610887],\n",
              "       [0.40415665],\n",
              "       [0.74188369],\n",
              "       [0.82593329],\n",
              "       [0.68322983],\n",
              "       [0.13927161],\n",
              "       [0.70282506],\n",
              "       [0.05883729],\n",
              "       [0.19266547],\n",
              "       [0.92479376],\n",
              "       [0.40510246],\n",
              "       [0.14829153],\n",
              "       [0.68228713],\n",
              "       [0.16348875],\n",
              "       [0.64822524],\n",
              "       [0.25161414],\n",
              "       [0.0413755 ],\n",
              "       [0.9587226 ],\n",
              "       [0.06622048],\n",
              "       [0.51294019],\n",
              "       [0.34129659],\n",
              "       [0.66000982],\n",
              "       [0.84442734],\n",
              "       [0.60386656],\n",
              "       [0.58721369],\n",
              "       [0.11703304],\n",
              "       [0.71045034],\n",
              "       [0.20452326],\n",
              "       [0.49036779],\n",
              "       [0.03660853],\n",
              "       [0.31540358],\n",
              "       [0.86303041],\n",
              "       [0.55846662],\n",
              "       [0.54670783],\n",
              "       [0.36782466]])"
            ]
          },
          "metadata": {
            "tags": []
          },
          "execution_count": 14
        }
      ]
    },
    {
      "cell_type": "code",
      "metadata": {
        "id": "gXPPO9LPqB9B",
        "colab_type": "code",
        "outputId": "d76634c4-9352-4d8b-c233-5a23a3ee9b21",
        "colab": {
          "base_uri": "https://localhost:8080/",
          "height": 269
        }
      },
      "source": [
        "plt.plot(R);"
      ],
      "execution_count": 0,
      "outputs": [
        {
          "output_type": "display_data",
          "data": {
            "image/png": "[encoded data removed]",
            "text/plain": [
              "<Figure size 432x288 with 1 Axes>"
            ]
          },
          "metadata": {
            "tags": []
          }
        }
      ]
    },
    {
      "cell_type": "code",
      "metadata": {
        "id": "aQYEU6JgqIWk",
        "colab_type": "code",
        "outputId": "29286219-e2bd-4035-d977-0d662ea72094",
        "colab": {
          "base_uri": "https://localhost:8080/",
          "height": 34
        }
      },
      "source": [
        "np.mean(R)"
      ],
      "execution_count": 0,
      "outputs": [
        {
          "output_type": "execute_result",
          "data": {
            "text/plain": [
              "0.5288434823529514"
            ]
          },
          "metadata": {
            "tags": []
          },
          "execution_count": 16
        }
      ]
    },
    {
      "cell_type": "code",
      "metadata": {
        "id": "eTlRPLy-qN0D",
        "colab_type": "code",
        "outputId": "b192f3c0-3cf4-4675-f676-4fbaca30639e",
        "colab": {
          "base_uri": "https://localhost:8080/",
          "height": 34
        }
      },
      "source": [
        "np.std(R)"
      ],
      "execution_count": 0,
      "outputs": [
        {
          "output_type": "execute_result",
          "data": {
            "text/plain": [
              "0.27270785856567026"
            ]
          },
          "metadata": {
            "tags": []
          },
          "execution_count": 17
        }
      ]
    },
    {
      "cell_type": "code",
      "metadata": {
        "id": "bQh-qekZqQHb",
        "colab_type": "code",
        "colab": {}
      },
      "source": [
        "scaler = StandardScaler() #Instantiate"
      ],
      "execution_count": 0,
      "outputs": []
    },
    {
      "cell_type": "code",
      "metadata": {
        "id": "JcKMXe0uqYN7",
        "colab_type": "code",
        "outputId": "994cf2d7-501f-4304-94ac-ce347ad4d1c6",
        "colab": {
          "base_uri": "https://localhost:8080/",
          "height": 34
        }
      },
      "source": [
        "scaler.fit(R) #Fit"
      ],
      "execution_count": 0,
      "outputs": [
        {
          "output_type": "execute_result",
          "data": {
            "text/plain": [
              "StandardScaler(copy=True, with_mean=True, with_std=True)"
            ]
          },
          "metadata": {
            "tags": []
          },
          "execution_count": 19
        }
      ]
    },
    {
      "cell_type": "code",
      "metadata": {
        "id": "SDLhHzZdqaM1",
        "colab_type": "code",
        "outputId": "c9b6218b-819e-4839-cfed-a00af19ca0b8",
        "colab": {
          "base_uri": "https://localhost:8080/",
          "height": 34
        }
      },
      "source": [
        "scaler.mean_"
      ],
      "execution_count": 0,
      "outputs": [
        {
          "output_type": "execute_result",
          "data": {
            "text/plain": [
              "array([0.52884348])"
            ]
          },
          "metadata": {
            "tags": []
          },
          "execution_count": 20
        }
      ]
    },
    {
      "cell_type": "code",
      "metadata": {
        "id": "5Fj_2TPfqinO",
        "colab_type": "code",
        "colab": {}
      },
      "source": [
        "R_T = scaler.transform(R) #Transform"
      ],
      "execution_count": 0,
      "outputs": []
    },
    {
      "cell_type": "code",
      "metadata": {
        "id": "MIJyUuvTqunr",
        "colab_type": "code",
        "outputId": "bd371082-8f21-4c49-df33-d70c40d83c3c",
        "colab": {
          "base_uri": "https://localhost:8080/",
          "height": 34
        }
      },
      "source": [
        "np.mean(R_T),np.std(R_T)"
      ],
      "execution_count": 0,
      "outputs": [
        {
          "output_type": "execute_result",
          "data": {
            "text/plain": [
              "(-5.2180482157382354e-17, 0.9999999999999999)"
            ]
          },
          "metadata": {
            "tags": []
          },
          "execution_count": 22
        }
      ]
    },
    {
      "cell_type": "code",
      "metadata": {
        "id": "l4EMFasQqxXh",
        "colab_type": "code",
        "outputId": "56739a22-417f-4e60-b9fb-f54beae2a7fa",
        "colab": {
          "base_uri": "https://localhost:8080/",
          "height": 287
        }
      },
      "source": [
        "plt.plot(R_T)"
      ],
      "execution_count": 0,
      "outputs": [
        {
          "output_type": "execute_result",
          "data": {
            "text/plain": [
              "[<matplotlib.lines.Line2D at 0x7ff3ba887b00>]"
            ]
          },
          "metadata": {
            "tags": []
          },
          "execution_count": 23
        },
        {
          "output_type": "display_data",
          "data": {
            "image/png": "[encoded data removed]",
            "text/plain": [
              "<Figure size 432x288 with 1 Axes>"
            ]
          },
          "metadata": {
            "tags": []
          }
        }
      ]
    },
    {
      "cell_type": "code",
      "metadata": {
        "id": "VMDFIC5krKH-",
        "colab_type": "code",
        "colab": {}
      },
      "source": [
        "R_TT = scaler.fit_transform(R)"
      ],
      "execution_count": 0,
      "outputs": []
    },
    {
      "cell_type": "code",
      "metadata": {
        "id": "CaI41ZiZrXoA",
        "colab_type": "code",
        "outputId": "9ea17c83-37ab-4f0f-a972-a7984dd55c92",
        "colab": {
          "base_uri": "https://localhost:8080/",
          "height": 34
        }
      },
      "source": [
        "np.mean(R_TT),np.std(R_TT)"
      ],
      "execution_count": 0,
      "outputs": [
        {
          "output_type": "execute_result",
          "data": {
            "text/plain": [
              "(-5.2180482157382354e-17, 0.9999999999999999)"
            ]
          },
          "metadata": {
            "tags": []
          },
          "execution_count": 25
        }
      ]
    },
    {
      "cell_type": "code",
      "metadata": {
        "id": "qZPX3LGtraZ7",
        "colab_type": "code",
        "outputId": "d3910b57-6f61-4bbf-91b8-a285a10c6ae9",
        "colab": {
          "base_uri": "https://localhost:8080/",
          "height": 259
        }
      },
      "source": [
        "#Apply Standard Scaler to Data\n",
        "np.mean(X)"
      ],
      "execution_count": 0,
      "outputs": [
        {
          "output_type": "execute_result",
          "data": {
            "text/plain": [
              "age          54.366337\n",
              "sex           0.683168\n",
              "cp            0.966997\n",
              "trestbps    131.623762\n",
              "chol        246.264026\n",
              "fbs           0.148515\n",
              "restecg       0.528053\n",
              "thalach     149.646865\n",
              "exang         0.326733\n",
              "oldpeak       1.039604\n",
              "slope         1.399340\n",
              "ca            0.729373\n",
              "thal          2.313531\n",
              "dtype: float64"
            ]
          },
          "metadata": {
            "tags": []
          },
          "execution_count": 26
        }
      ]
    },
    {
      "cell_type": "code",
      "metadata": {
        "id": "I6fi78i6Yifs",
        "colab_type": "code",
        "outputId": "2311134e-270f-4154-a301-30a7e2793bf1",
        "colab": {
          "base_uri": "https://localhost:8080/",
          "height": 259
        }
      },
      "source": [
        "np.std(X)"
      ],
      "execution_count": 0,
      "outputs": [
        {
          "output_type": "execute_result",
          "data": {
            "text/plain": [
              "age          9.067102\n",
              "sex          0.465241\n",
              "cp           1.030348\n",
              "trestbps    17.509178\n",
              "chol        51.745151\n",
              "fbs          0.355610\n",
              "restecg      0.524991\n",
              "thalach     22.867333\n",
              "exang        0.469019\n",
              "oldpeak      1.159157\n",
              "slope        0.615208\n",
              "ca           1.020918\n",
              "thal         0.611265\n",
              "dtype: float64"
            ]
          },
          "metadata": {
            "tags": []
          },
          "execution_count": 27
        }
      ]
    },
    {
      "cell_type": "markdown",
      "metadata": {
        "id": "gXS831HxYrM5",
        "colab_type": "text"
      },
      "source": [
        "## When to Apply Standard Scaler ?\n",
        "\n",
        "Before Split or After Split ? *After Split*\n",
        "\n",
        "## How to Apply Standard Scaler ?\n",
        "*Apply Fit & Transform on Train Data, then use the same scaling for Applying on Test data. (i.e., apply only transform on test data)*"
      ]
    },
    {
      "cell_type": "code",
      "metadata": {
        "id": "7tDaVnYFYmBd",
        "colab_type": "code",
        "colab": {}
      },
      "source": [
        "#Train Test Split"
      ],
      "execution_count": 0,
      "outputs": []
    },
    {
      "cell_type": "code",
      "metadata": {
        "id": "qSXSBttOZYX-",
        "colab_type": "code",
        "colab": {}
      },
      "source": [
        "from sklearn.model_selection import train_test_split"
      ],
      "execution_count": 0,
      "outputs": []
    },
    {
      "cell_type": "code",
      "metadata": {
        "id": "fiuWLZ0MZgXU",
        "colab_type": "code",
        "colab": {}
      },
      "source": [
        "X_train,X_test,Y_train,Y_test = train_test_split(X,Y,test_size = 0.1,stratify = Y, random_state = 6)"
      ],
      "execution_count": 0,
      "outputs": []
    },
    {
      "cell_type": "code",
      "metadata": {
        "id": "zBCbTHW1ZspF",
        "colab_type": "code",
        "colab": {}
      },
      "source": [
        "X_train = X_train.values\n",
        "X_test = X_test.values\n",
        "Y_train = Y_train.values\n",
        "Y_test = Y_test.values"
      ],
      "execution_count": 0,
      "outputs": []
    },
    {
      "cell_type": "code",
      "metadata": {
        "id": "ePjznr9FZ2u-",
        "colab_type": "code",
        "outputId": "09c3a85a-4dc0-4c3e-c124-f9c28eb1856e",
        "colab": {
          "base_uri": "https://localhost:8080/",
          "height": 34
        }
      },
      "source": [
        "X.shape,X_train.shape,X_test.shape"
      ],
      "execution_count": 0,
      "outputs": [
        {
          "output_type": "execute_result",
          "data": {
            "text/plain": [
              "((303, 13), (272, 13), (31, 13))"
            ]
          },
          "metadata": {
            "tags": []
          },
          "execution_count": 32
        }
      ]
    },
    {
      "cell_type": "code",
      "metadata": {
        "id": "YQ5kClUvZ6EA",
        "colab_type": "code",
        "outputId": "1a6271c0-1534-4b86-a27e-77e7f7203f57",
        "colab": {
          "base_uri": "https://localhost:8080/",
          "height": 34
        }
      },
      "source": [
        "Y.shape,Y_train.shape,Y_test.shape"
      ],
      "execution_count": 0,
      "outputs": [
        {
          "output_type": "execute_result",
          "data": {
            "text/plain": [
              "((303,), (272,), (31,))"
            ]
          },
          "metadata": {
            "tags": []
          },
          "execution_count": 33
        }
      ]
    },
    {
      "cell_type": "code",
      "metadata": {
        "id": "EsKUEv_OZ-6T",
        "colab_type": "code",
        "colab": {}
      },
      "source": [
        "#Apply Standard Scaler\n",
        "scaler = StandardScaler()"
      ],
      "execution_count": 0,
      "outputs": []
    },
    {
      "cell_type": "code",
      "metadata": {
        "id": "ch-0dMaCaHW8",
        "colab_type": "code",
        "outputId": "5df0ded9-55c7-46bb-d6e3-2bf78125ac92",
        "colab": {
          "base_uri": "https://localhost:8080/",
          "height": 34
        }
      },
      "source": [
        "#Fit and Transform on Traindata\n",
        "np.mean(X_train),np.std(X_train)"
      ],
      "execution_count": 0,
      "outputs": [
        {
          "output_type": "execute_result",
          "data": {
            "text/plain": [
              "(45.48648190045249, 78.72223969128493)"
            ]
          },
          "metadata": {
            "tags": []
          },
          "execution_count": 35
        }
      ]
    },
    {
      "cell_type": "code",
      "metadata": {
        "id": "4JLb4Y0OaQln",
        "colab_type": "code",
        "outputId": "72145b8f-d218-4ae7-d6b7-3a37ed029634",
        "colab": {
          "base_uri": "https://localhost:8080/",
          "height": 34
        }
      },
      "source": [
        "np.mean(X_test),np.std(X_test)"
      ],
      "execution_count": 0,
      "outputs": [
        {
          "output_type": "execute_result",
          "data": {
            "text/plain": [
              "(44.518114143920606, 76.69464634886546)"
            ]
          },
          "metadata": {
            "tags": []
          },
          "execution_count": 36
        }
      ]
    },
    {
      "cell_type": "code",
      "metadata": {
        "id": "uGwmYRRuaUu1",
        "colab_type": "code",
        "colab": {}
      },
      "source": [
        "X_Transformed_Train = scaler.fit_transform(X_train)"
      ],
      "execution_count": 0,
      "outputs": []
    },
    {
      "cell_type": "code",
      "metadata": {
        "id": "VoR0mY2Lah_E",
        "colab_type": "code",
        "outputId": "08c566a0-27c5-429b-9a61-bec308c01a76",
        "colab": {
          "base_uri": "https://localhost:8080/",
          "height": 34
        }
      },
      "source": [
        "np.mean(X_Transformed_Train),np.std(X_Transformed_Train)"
      ],
      "execution_count": 0,
      "outputs": [
        {
          "output_type": "execute_result",
          "data": {
            "text/plain": [
              "(1.6577990865443514e-17, 1.0)"
            ]
          },
          "metadata": {
            "tags": []
          },
          "execution_count": 38
        }
      ]
    },
    {
      "cell_type": "code",
      "metadata": {
        "id": "wNtLxw6passx",
        "colab_type": "code",
        "colab": {}
      },
      "source": [
        "#Only Transform on Test data\n",
        "X_Transformed_Test = scaler.transform(X_test)"
      ],
      "execution_count": 0,
      "outputs": []
    },
    {
      "cell_type": "code",
      "metadata": {
        "id": "cuKhIGXea50V",
        "colab_type": "code",
        "colab": {}
      },
      "source": [
        "np.mean(X_Transformed_Test),np.std(X_Transformed_Test)"
      ],
      "execution_count": 0,
      "outputs": []
    },
    {
      "cell_type": "markdown",
      "metadata": {
        "id": "MsP3pleRntr2",
        "colab_type": "text"
      },
      "source": [
        "# Class for Sigmoid"
      ]
    },
    {
      "cell_type": "code",
      "metadata": {
        "id": "0F4DcjH8qEmH",
        "colab_type": "code",
        "colab": {}
      },
      "source": [
        "from sklearn.metrics import mean_squared_error"
      ],
      "execution_count": 0,
      "outputs": []
    },
    {
      "cell_type": "code",
      "metadata": {
        "id": "bO6dXqI0a-7-",
        "colab_type": "code",
        "colab": {}
      },
      "source": [
        "class SigmoidNeuron:\n",
        "  def __init__(self):\n",
        "    self.w = None\n",
        "    self.b = None\n",
        "    \n",
        "  def sigmoid(self,x):\n",
        "    weighted_sum = np.dot(self.w,x) + self.b\n",
        "    return 1.0/(1.0 + (np.exp(-(weighted_sum))))\n",
        "  \n",
        "  def grad_w(self,x,y):\n",
        "    y_pred = self.sigmoid(x)\n",
        "    return (y_pred - y) * y_pred * (1 - y_pred) * x\n",
        "  \n",
        "  def grad_b(self,x,y):\n",
        "    y_pred = self.sigmoid(x)\n",
        "    return (y_pred - y) * y_pred * (1 - y_pred)\n",
        "  \n",
        "  def fit(self,X,Y,epochs = 1, lr = 1, initialize = True):\n",
        "    #initialize w,b\n",
        "    if initialize:\n",
        "      np.random.seed(6)\n",
        "      self.w = np.random.randn(1,X.shape[1])\n",
        "      self.b = 0\n",
        "      \n",
        "    plot_loss = {}\n",
        "    \n",
        "    for i in range(epochs):\n",
        "      dw = 0\n",
        "      db = 0\n",
        "      for x,y in zip(X,Y):\n",
        "        dw += self.grad_w(x,y)\n",
        "        db += self.grad_b(x,y)\n",
        "      self.w -= lr*dw\n",
        "      self.b -= lr*db\n",
        "      plot_loss[i] = self.Loss(X,Y)\n",
        "      \n",
        "    plt.plot(plot_loss.values())\n",
        "    plt.xlabel(\"epochs\")\n",
        "    plt.ylabel(\"Loss\")\n",
        "    plt.title(\"Visualization of Loss VS Epochs\");\n",
        "  \n",
        "  def predict(self,X):\n",
        "    Y_pred = []\n",
        "    for x in X:\n",
        "      y_pred = self.sigmoid(x)\n",
        "      Y_pred.append(y_pred)\n",
        "    return np.array(Y_pred)\n",
        "  \n",
        "  \n",
        "  def Loss(self,X,Y):\n",
        "    loss = 0\n",
        "    Y_pred = self.predict(X)\n",
        "    loss = mean_squared_error(Y,Y_pred)\n",
        "    return loss\n",
        "    \n",
        "  def accuracy_value(self,X,Y,threshold = 0.5):\n",
        "    Y_pred = self.predict(X)\n",
        "    Y_pred = (Y_pred >= threshold).astype(int)\n",
        "    accuracy = accuracy_score(Y_pred,Y)\n",
        "    return accuracy"
      ],
      "execution_count": 0,
      "outputs": []
    },
    {
      "cell_type": "code",
      "metadata": {
        "id": "DlH4KdHaq-Cm",
        "colab_type": "code",
        "outputId": "0deb9593-695d-4884-dd10-ac360583cf38",
        "colab": {
          "base_uri": "https://localhost:8080/",
          "height": 295
        }
      },
      "source": [
        "sn = SigmoidNeuron()\n",
        "sn.fit(X_Transformed_Train,Y_train,30,0.15)"
      ],
      "execution_count": 0,
      "outputs": [
        {
          "output_type": "display_data",
          "data": {
            "image/png": "[encoded data removed]",
            "text/plain": [
              "<Figure size 432x288 with 1 Axes>"
            ]
          },
          "metadata": {
            "tags": []
          }
        }
      ]
    },
    {
      "cell_type": "code",
      "metadata": {
        "id": "5K3jMT60rPCY",
        "colab_type": "code",
        "outputId": "484ae47e-e579-413a-b3c8-519754415ada",
        "colab": {
          "base_uri": "https://localhost:8080/",
          "height": 34
        }
      },
      "source": [
        "sn.Loss(X_Transformed_Train,Y_train)"
      ],
      "execution_count": 0,
      "outputs": [
        {
          "output_type": "execute_result",
          "data": {
            "text/plain": [
              "0.1008182170097459"
            ]
          },
          "metadata": {
            "tags": []
          },
          "execution_count": 45
        }
      ]
    },
    {
      "cell_type": "code",
      "metadata": {
        "id": "nS_nmkYrrYFA",
        "colab_type": "code",
        "colab": {}
      },
      "source": [
        "sn.predict(X_Transformed_Train)"
      ],
      "execution_count": 0,
      "outputs": []
    },
    {
      "cell_type": "code",
      "metadata": {
        "id": "tCY3aSUnrfEQ",
        "colab_type": "code",
        "colab": {}
      },
      "source": [
        "#For binary classification we want the output from model as 0 or 1\n",
        "Y_pred = sn.predict(X_Transformed_Train)\n",
        "threshold = 0.5\n",
        "Y_bin = (Y_pred >= threshold).astype(int)\n",
        "Y_bin"
      ],
      "execution_count": 0,
      "outputs": []
    },
    {
      "cell_type": "code",
      "metadata": {
        "id": "5ggbaru1sMxi",
        "colab_type": "code",
        "colab": {}
      },
      "source": [
        "from sklearn.metrics import accuracy_score"
      ],
      "execution_count": 0,
      "outputs": []
    },
    {
      "cell_type": "code",
      "metadata": {
        "id": "Qiy5o3hTtIkI",
        "colab_type": "code",
        "outputId": "9ef951db-c4c9-42d9-e39f-c2a50091dcc6",
        "colab": {
          "base_uri": "https://localhost:8080/",
          "height": 34
        }
      },
      "source": [
        "accuracy_score(Y_bin,Y_train)"
      ],
      "execution_count": 0,
      "outputs": [
        {
          "output_type": "execute_result",
          "data": {
            "text/plain": [
              "0.8897058823529411"
            ]
          },
          "metadata": {
            "tags": []
          },
          "execution_count": 67
        }
      ]
    },
    {
      "cell_type": "code",
      "metadata": {
        "id": "MC6Hqj9HtdKQ",
        "colab_type": "code",
        "outputId": "1518272f-bcf7-42d7-af76-e64af8e3254b",
        "colab": {
          "base_uri": "https://localhost:8080/",
          "height": 295
        }
      },
      "source": [
        "sn = SigmoidNeuron()\n",
        "sn.fit(X_Transformed_Train,Y_train,1000,0.15)"
      ],
      "execution_count": 0,
      "outputs": [
        {
          "output_type": "display_data",
          "data": {
            "image/png": "[encoded data removed]",
            "text/plain": [
              "<Figure size 432x288 with 1 Axes>"
            ]
          },
          "metadata": {
            "tags": []
          }
        }
      ]
    },
    {
      "cell_type": "code",
      "metadata": {
        "id": "GjOzzK5gu6B3",
        "colab_type": "code",
        "outputId": "b4a30851-6b1e-4b80-bbd7-b7f973c2a99a",
        "colab": {
          "base_uri": "https://localhost:8080/",
          "height": 34
        }
      },
      "source": [
        "sn.accuracy_value(X_Transformed_Train,Y_train)"
      ],
      "execution_count": 0,
      "outputs": [
        {
          "output_type": "execute_result",
          "data": {
            "text/plain": [
              "0.8970588235294118"
            ]
          },
          "metadata": {
            "tags": []
          },
          "execution_count": 70
        }
      ]
    },
    {
      "cell_type": "code",
      "metadata": {
        "id": "j8b4lUhjvDNG",
        "colab_type": "code",
        "outputId": "2a5079eb-d35d-4c45-82d3-61e1f4df9aa5",
        "colab": {
          "base_uri": "https://localhost:8080/",
          "height": 34
        }
      },
      "source": [
        "sn.accuracy_value(X_Transformed_Test,Y_test)"
      ],
      "execution_count": 0,
      "outputs": [
        {
          "output_type": "execute_result",
          "data": {
            "text/plain": [
              "0.7419354838709677"
            ]
          },
          "metadata": {
            "tags": []
          },
          "execution_count": 71
        }
      ]
    },
    {
      "cell_type": "code",
      "metadata": {
        "id": "lY5oHiq2vLtP",
        "colab_type": "code",
        "colab": {}
      },
      "source": [
        ""
      ],
      "execution_count": 0,
      "outputs": []
    }
  ]
}