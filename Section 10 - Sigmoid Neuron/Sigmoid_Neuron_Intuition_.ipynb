{
  "nbformat": 4,
  "nbformat_minor": 0,
  "metadata": {
    "colab": {
      "name": "Sigmoid Neuron Intuition .ipynb",
      "version": "0.3.2",
      "provenance": [],
      "collapsed_sections": []
    },
    "kernelspec": {
      "name": "python3",
      "display_name": "Python 3"
    }
  },
  "cells": [
    {
      "cell_type": "markdown",
      "metadata": {
        "id": "u27VqMAA-91h",
        "colab_type": "text"
      },
      "source": [
        "# $S_{w, b}(x) = \\frac{1}{1 + e^{-(wx + b)}}$"
      ]
    },
    {
      "cell_type": "code",
      "metadata": {
        "id": "Db6WgqlG8hyR",
        "colab_type": "code",
        "colab": {}
      },
      "source": [
        "import numpy as np\n",
        "import pandas as pd\n",
        "import matplotlib.pyplot as plt"
      ],
      "execution_count": 0,
      "outputs": []
    },
    {
      "cell_type": "markdown",
      "metadata": {
        "id": "kNrCEWZh_Ru_",
        "colab_type": "text"
      },
      "source": [
        ""
      ]
    },
    {
      "cell_type": "code",
      "metadata": {
        "id": "uyut5_MA8-Xe",
        "colab_type": "code",
        "colab": {}
      },
      "source": [
        "def Sigmoid(x,w,b):\n",
        "  return 1/(1+np.exp(-(w*x + b)))"
      ],
      "execution_count": 0,
      "outputs": []
    },
    {
      "cell_type": "code",
      "metadata": {
        "id": "LLu8VNVq9Igu",
        "colab_type": "code",
        "outputId": "5eebbf0c-d451-41bb-9b68-f364f30a5d85",
        "colab": {
          "base_uri": "https://localhost:8080/",
          "height": 34
        }
      },
      "source": [
        "Sigmoid(4,2,1)"
      ],
      "execution_count": 0,
      "outputs": [
        {
          "output_type": "execute_result",
          "data": {
            "text/plain": [
              "0.9998766054240137"
            ]
          },
          "metadata": {
            "tags": []
          },
          "execution_count": 3
        }
      ]
    },
    {
      "cell_type": "code",
      "metadata": {
        "id": "X_xgdNVb9LUV",
        "colab_type": "code",
        "outputId": "09562710-e274-4be8-a796-ddfcb9dc61a9",
        "colab": {
          "base_uri": "https://localhost:8080/",
          "height": 281
        }
      },
      "source": [
        "#Test\n",
        "w = 1\n",
        "b = 1\n",
        "X = np.linspace(-10,10,100)\n",
        "Y = Sigmoid(X,w,b)\n",
        "plt.plot(X,Y)\n",
        "plt.title(\"Plot of Sigmoid at w = {},b = {}\".format(w,b));"
      ],
      "execution_count": 0,
      "outputs": [
        {
          "output_type": "display_data",
          "data": {
            "image/png": "[encoded data removed]",
            "text/plain": [
              "<Figure size 432x288 with 1 Axes>"
            ]
          },
          "metadata": {
            "tags": []
          }
        }
      ]
    },
    {
      "cell_type": "code",
      "metadata": {
        "id": "_Ukh60C49dlc",
        "colab_type": "code",
        "outputId": "03f7bc53-a421-493b-db78-f766af6c4a3b",
        "colab": {
          "base_uri": "https://localhost:8080/",
          "height": 54
        }
      },
      "source": [
        "'''\n",
        "In case of 3 input features:\n",
        "y = 1/(1+np.exp(-(w1*x1+w2*x2+w3*x3)))\n",
        "\n",
        "\n",
        "or we can represent in vectors:\n",
        "y = 1/(1+ np.exp(-(np.dot(w,x)+b)))\n",
        "'''"
      ],
      "execution_count": 0,
      "outputs": [
        {
          "output_type": "execute_result",
          "data": {
            "text/plain": [
              "'\\nIn case of 3 input features:\\ny = 1/(1+np.exp(-(w1*x1+w2*x2+w3*x3)))\\n\\n\\nor we can represent in vectors:\\ny = 1/(1+ np.exp(-(np.dot(w,x)+b)))\\n'"
            ]
          },
          "metadata": {
            "tags": []
          },
          "execution_count": 5
        }
      ]
    },
    {
      "cell_type": "code",
      "metadata": {
        "id": "0J2InC1M-AkY",
        "colab_type": "code",
        "outputId": "40140cb6-2d24-4926-bfae-05e333ec6c3e",
        "colab": {
          "base_uri": "https://localhost:8080/",
          "height": 52
        }
      },
      "source": [
        "w = 0.7\n",
        "b = 0.3\n",
        "X = np.array([1,2,3,4,5,6,7,8,9,10])\n",
        "Y = Sigmoid(X,w,b)\n",
        "Y"
      ],
      "execution_count": 0,
      "outputs": [
        {
          "output_type": "execute_result",
          "data": {
            "text/plain": [
              "array([0.73105858, 0.84553473, 0.9168273 , 0.95689275, 0.97811873,\n",
              "       0.98901306, 0.9945137 , 0.99726804, 0.99864148, 0.99932492])"
            ]
          },
          "metadata": {
            "tags": []
          },
          "execution_count": 6
        }
      ]
    },
    {
      "cell_type": "code",
      "metadata": {
        "id": "fVrQgXrf-SJv",
        "colab_type": "code",
        "colab": {}
      },
      "source": [
        "#Choose a threshold to convert Y to boolean"
      ],
      "execution_count": 0,
      "outputs": []
    },
    {
      "cell_type": "markdown",
      "metadata": {
        "id": "ITXV-Uf1_YE1",
        "colab_type": "text"
      },
      "source": [
        "# Intuition of Sigmoid"
      ]
    },
    {
      "cell_type": "code",
      "metadata": {
        "id": "bDMGQk7B_vQ-",
        "colab_type": "code",
        "outputId": "f09d266c-8cdb-4daa-9f5b-fce77f1b5e16",
        "colab": {
          "base_uri": "https://localhost:8080/",
          "height": 281
        }
      },
      "source": [
        "#Change the Slider of w and b to get intuition of Sigmoid\n",
        "w = -5 #@param {type:\"slider\", min:-5, max:5,step:0.1}\n",
        "b = -5    #@param {type: \"slider\", min: -5, max: 5,step:0.1}\n",
        "X = np.linspace(-10,10,100)\n",
        "Y = Sigmoid(X,w,b)\n",
        "plt.plot(X,Y)\n",
        "plt.title(\"Plot of Sigmoid at w = {},b = {}\".format(w,b));"
      ],
      "execution_count": 0,
      "outputs": [
        {
          "output_type": "display_data",
          "data": {
            "image/png": "[encoded data removed]",
            "text/plain": [
              "<Figure size 432x288 with 1 Axes>"
            ]
          },
          "metadata": {
            "tags": []
          }
        }
      ]
    },
    {
      "cell_type": "markdown",
      "metadata": {
        "id": "cn6oRRqRD--p",
        "colab_type": "text"
      },
      "source": [
        "# Manual Fit to Sigmoid Function"
      ]
    },
    {
      "cell_type": "code",
      "metadata": {
        "id": "kPK8KDC-_78I",
        "colab_type": "code",
        "outputId": "ce7c81d9-43b3-4a82-c2e4-0a45e930cc5b",
        "colab": {
          "base_uri": "https://localhost:8080/",
          "height": 383
        }
      },
      "source": [
        "#This will download the file of image\n",
        "!wget https://www.dropbox.com/s/uwd2htmhoelp1pc/DLNNS09A05.png"
      ],
      "execution_count": 0,
      "outputs": [
        {
          "output_type": "stream",
          "text": [
            "--2019-06-28 17:54:55--  https://www.dropbox.com/s/uwd2htmhoelp1pc/DLNNS09A05.png\n",
            "Resolving www.dropbox.com (www.dropbox.com)... 162.125.1.1, 2620:100:601b:1::a27d:801\n",
            "Connecting to www.dropbox.com (www.dropbox.com)|162.125.1.1|:443... connected.\n",
            "HTTP request sent, awaiting response... 301 Moved Permanently\n",
            "Location: /s/raw/uwd2htmhoelp1pc/DLNNS09A05.png [following]\n",
            "--2019-06-28 17:54:55--  https://www.dropbox.com/s/raw/uwd2htmhoelp1pc/DLNNS09A05.png\n",
            "Reusing existing connection to www.dropbox.com:443.\n",
            "HTTP request sent, awaiting response... 302 Found\n",
            "Location: https://ucabae5c251b88e58ec3a74f94a0.dl.dropboxusercontent.com/cd/0/inline/AjtUXBcUgaa0p1mk2XOi0LKaxRRiOLBLuJr-gVAOMRmyx_mgJoO4NRpjFDZ2TPw4PUMhQlU1nmCYh0F3-5BNQIjG8CeTQ7AAbgYsSYPEWlbI3Q/file# [following]\n",
            "--2019-06-28 17:54:55--  https://ucabae5c251b88e58ec3a74f94a0.dl.dropboxusercontent.com/cd/0/inline/AjtUXBcUgaa0p1mk2XOi0LKaxRRiOLBLuJr-gVAOMRmyx_mgJoO4NRpjFDZ2TPw4PUMhQlU1nmCYh0F3-5BNQIjG8CeTQ7AAbgYsSYPEWlbI3Q/file\n",
            "Resolving ucabae5c251b88e58ec3a74f94a0.dl.dropboxusercontent.com (ucabae5c251b88e58ec3a74f94a0.dl.dropboxusercontent.com)... 162.125.1.6, 2620:100:6016:6::a27d:106\n",
            "Connecting to ucabae5c251b88e58ec3a74f94a0.dl.dropboxusercontent.com (ucabae5c251b88e58ec3a74f94a0.dl.dropboxusercontent.com)|162.125.1.6|:443... connected.\n",
            "HTTP request sent, awaiting response... 200 OK\n",
            "Length: 15694 (15K) [image/png]\n",
            "Saving to: ‘DLNNS09A05.png’\n",
            "\n",
            "\rDLNNS09A05.png        0%[                    ]       0  --.-KB/s               \rDLNNS09A05.png      100%[===================>]  15.33K  --.-KB/s    in 0s      \n",
            "\n",
            "2019-06-28 17:54:56 (171 MB/s) - ‘DLNNS09A05.png’ saved [15694/15694]\n",
            "\n"
          ],
          "name": "stdout"
        }
      ]
    },
    {
      "cell_type": "code",
      "metadata": {
        "id": "v9IZUgWrADhN",
        "colab_type": "code",
        "outputId": "6df9ddd6-eb56-4ace-b98a-ac4bd1e977a5",
        "colab": {
          "base_uri": "https://localhost:8080/",
          "height": 34
        }
      },
      "source": [
        "!ls"
      ],
      "execution_count": 0,
      "outputs": [
        {
          "output_type": "stream",
          "text": [
            "DLNNS09A05.png\tsample_data\n"
          ],
          "name": "stdout"
        }
      ]
    },
    {
      "cell_type": "code",
      "metadata": {
        "id": "Xg9NOFguHKgG",
        "colab_type": "code",
        "outputId": "85067e3c-90e1-44c9-eeb9-025d28f645d5",
        "colab": {
          "base_uri": "https://localhost:8080/",
          "height": 435
        }
      },
      "source": [
        "from IPython.display import Image, display\n",
        "Image('DLNNS09A05.png')"
      ],
      "execution_count": 0,
      "outputs": [
        {
          "output_type": "execute_result",
          "data": {
            "image/png": "[encoded data removed]",
            "text/plain": [
              "<IPython.core.display.Image object>"
            ]
          },
          "metadata": {
            "tags": []
          },
          "execution_count": 36
        }
      ]
    },
    {
      "cell_type": "code",
      "metadata": {
        "id": "MJ4o9ttTOjvd",
        "colab_type": "code",
        "outputId": "7fcd038a-87c6-4ecf-b659-71736c2560d6",
        "colab": {
          "base_uri": "https://localhost:8080/",
          "height": 281
        }
      },
      "source": [
        "#Data\n",
        "X = np.array([1,2,3,4,5,6,7,8,9,10])\n",
        "Y = np.array([0.7310,0.8455,0.9168,0.9568,0.9781,0.9890,0.9945,0.9972,0.9986,0.9993])\n",
        "plt.xlim(-10,11)#As we have x values till 10\n",
        "plt.ylim(0,1.1)\n",
        "plt.title(\"Data Plot\")\n",
        "plt.plot(X,Y,'*');"
      ],
      "execution_count": 0,
      "outputs": [
        {
          "output_type": "display_data",
          "data": {
            "image/png": "[encoded data removed]",
            "text/plain": [
              "<Figure size 432x288 with 1 Axes>"
            ]
          },
          "metadata": {
            "tags": []
          }
        }
      ]
    },
    {
      "cell_type": "code",
      "metadata": {
        "id": "-PmuE6HtP7nG",
        "colab_type": "code",
        "outputId": "60b72b47-ba9b-4e50-ec1c-32860332af3b",
        "colab": {
          "base_uri": "https://localhost:8080/",
          "height": 235
        }
      },
      "source": [
        "#Slider works only in Google Colab. please make use of google colab to build intuition\n",
        "w = 0.7 #@param {type:\"slider\", min:-5, max:5,step:0.1}\n",
        "b = 0.3 #@param {type:\"slider\", min:-5, max:5,step:0.1}\n",
        "XX = np.linspace(-10,10,100)\n",
        "YY = Sigmoid(XX,w,b)\n",
        "plt.plot(XX,YY)\n",
        "plt.plot(X,Y,'*')\n",
        "plt.title('w = {}, b = {} '.format(w,b));"
      ],
      "execution_count": 1,
      "outputs": [
        {
          "output_type": "error",
          "ename": "NameError",
          "evalue": "ignored",
          "traceback": [
            "\u001b[0;31m---------------------------------------------------------------------------\u001b[0m",
            "\u001b[0;31mNameError\u001b[0m                                 Traceback (most recent call last)",
            "\u001b[0;32m<ipython-input-1-f2f26bb79478>\u001b[0m in \u001b[0;36m<module>\u001b[0;34m()\u001b[0m\n\u001b[1;32m      1\u001b[0m \u001b[0mw\u001b[0m \u001b[0;34m=\u001b[0m \u001b[0;36m0.7\u001b[0m \u001b[0;31m#@param {type:\"slider\", min:-5, max:5,step:0.1}\u001b[0m\u001b[0;34m\u001b[0m\u001b[0;34m\u001b[0m\u001b[0m\n\u001b[1;32m      2\u001b[0m \u001b[0mb\u001b[0m \u001b[0;34m=\u001b[0m \u001b[0;36m0.3\u001b[0m \u001b[0;31m#@param {type:\"slider\", min:-5, max:5,step:0.1}\u001b[0m\u001b[0;34m\u001b[0m\u001b[0;34m\u001b[0m\u001b[0m\n\u001b[0;32m----> 3\u001b[0;31m \u001b[0mXX\u001b[0m \u001b[0;34m=\u001b[0m \u001b[0mnp\u001b[0m\u001b[0;34m.\u001b[0m\u001b[0mlinspace\u001b[0m\u001b[0;34m(\u001b[0m\u001b[0;34m-\u001b[0m\u001b[0;36m10\u001b[0m\u001b[0;34m,\u001b[0m\u001b[0;36m10\u001b[0m\u001b[0;34m,\u001b[0m\u001b[0;36m100\u001b[0m\u001b[0;34m)\u001b[0m\u001b[0;34m\u001b[0m\u001b[0;34m\u001b[0m\u001b[0m\n\u001b[0m\u001b[1;32m      4\u001b[0m \u001b[0mYY\u001b[0m \u001b[0;34m=\u001b[0m \u001b[0mSigmoid\u001b[0m\u001b[0;34m(\u001b[0m\u001b[0mXX\u001b[0m\u001b[0;34m,\u001b[0m\u001b[0mw\u001b[0m\u001b[0;34m,\u001b[0m\u001b[0mb\u001b[0m\u001b[0;34m)\u001b[0m\u001b[0;34m\u001b[0m\u001b[0;34m\u001b[0m\u001b[0m\n\u001b[1;32m      5\u001b[0m \u001b[0mplt\u001b[0m\u001b[0;34m.\u001b[0m\u001b[0mplot\u001b[0m\u001b[0;34m(\u001b[0m\u001b[0mXX\u001b[0m\u001b[0;34m,\u001b[0m\u001b[0mYY\u001b[0m\u001b[0;34m)\u001b[0m\u001b[0;34m\u001b[0m\u001b[0;34m\u001b[0m\u001b[0m\n",
            "\u001b[0;31mNameError\u001b[0m: name 'np' is not defined"
          ]
        }
      ]
    },
    {
      "cell_type": "code",
      "metadata": {
        "id": "Gvl1KJ-BQsSx",
        "colab_type": "code",
        "outputId": "b168329c-6369-4f2e-9d67-f5d04f30daaa",
        "colab": {
          "base_uri": "https://localhost:8080/",
          "height": 34
        }
      },
      "source": [
        "Sigmoid(-1,w,b)"
      ],
      "execution_count": 0,
      "outputs": [
        {
          "output_type": "execute_result",
          "data": {
            "text/plain": [
              "0.401312339887548"
            ]
          },
          "metadata": {
            "tags": []
          },
          "execution_count": 50
        }
      ]
    },
    {
      "cell_type": "code",
      "metadata": {
        "id": "zD4ugyd6RyXc",
        "colab_type": "code",
        "colab": {}
      },
      "source": [
        ""
      ],
      "execution_count": 0,
      "outputs": []
    }
  ]
}