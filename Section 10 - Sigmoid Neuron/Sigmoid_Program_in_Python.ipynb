{
  "nbformat": 4,
  "nbformat_minor": 0,
  "metadata": {
    "colab": {
      "name": "Sigmoid - Program in Python.ipynb",
      "version": "0.3.2",
      "provenance": []
    },
    "kernelspec": {
      "name": "python3",
      "display_name": "Python 3"
    }
  },
  "cells": [
    {
      "cell_type": "markdown",
      "metadata": {
        "id": "GXgvP0_UXfcl",
        "colab_type": "text"
      },
      "source": [
        "# Implemening Sigmoid Neuron :\n",
        "# $S_{w, b}(x) = \\frac{1}{1 + e^{-(wx + b)}}$"
      ]
    },
    {
      "cell_type": "code",
      "metadata": {
        "id": "adCc8b95XfNQ",
        "colab_type": "code",
        "colab": {}
      },
      "source": [
        "#import the libraries\n",
        "import numpy as np\n",
        "import matplotlib.pyplot as plt\n",
        "from sklearn.metrics import mean_squared_error"
      ],
      "execution_count": 0,
      "outputs": []
    },
    {
      "cell_type": "code",
      "metadata": {
        "id": "guVxGtmZU5D4",
        "colab_type": "code",
        "outputId": "9cfd055f-8085-4a39-db47-8ffde5682896",
        "colab": {
          "base_uri": "https://localhost:8080/",
          "height": 281
        }
      },
      "source": [
        "#Data\n",
        "X = np.array([1,2,3,4,5,6,7,8,9,10])\n",
        "Y = np.array([0.7310,0.8455,0.9168,0.9568,0.9781,0.9890,0.9945,0.9972,0.9986,0.9993])\n",
        "plt.xlim(-10,11) #As we have x values till 10\n",
        "plt.ylim(0,1.1)\n",
        "plt.plot(X,Y,'*')\n",
        "plt.title(\"Data Plot\");"
      ],
      "execution_count": 0,
      "outputs": [
        {
          "output_type": "display_data",
          "data": {
            "image/png": "[encoded data removed]",
            "text/plain": [
              "<Figure size 432x288 with 1 Axes>"
            ]
          },
          "metadata": {
            "tags": []
          }
        }
      ]
    },
    {
      "cell_type": "code",
      "metadata": {
        "id": "ZHu7ICdWYCSa",
        "colab_type": "code",
        "colab": {}
      },
      "source": [
        "class SigmoidFunction:\n",
        "  def __init__(self):\n",
        "    self.w = None\n",
        "    self.b = None\n",
        "    np.random.seed(0)\n",
        "    \n",
        "  def Sigmoid(self,x):\n",
        "    return 1.0/(1.0+np.exp(-(np.dot(self.w,x)+self.b)))\n",
        "  \n",
        "  def grad_w(self,x,y):\n",
        "    y_pred = self.Sigmoid(x)\n",
        "    return 2*(y_pred - y)*y_pred*(1-y_pred)*x\n",
        "  \n",
        "  def grad_b(self,x,y):\n",
        "    y_pred = self.Sigmoid(x)\n",
        "    return 2*(y_pred - y)* y_pred * (1-y_pred)\n",
        "  \n",
        "  def fit(self,X,Y,epochs = 1,lr = 1, initialize = True):\n",
        "    #initialize the w and b\n",
        "    if initialize:\n",
        "      self.w = np.random.randn(1,X.shape[1]) \n",
        "      self.b = 0\n",
        "      \n",
        "    for i in range(epochs):\n",
        "      dw = 0\n",
        "      db = 0\n",
        "      for x,y in zip(X,Y):\n",
        "        dw += self.grad_w(x,y)\n",
        "        db += self.grad_b(x,y)\n",
        "      \n",
        "      self.w -= lr*dw\n",
        "      self.b -= lr*db\n",
        "      \n",
        "  def Loss(self,X,Y):\n",
        "    loss = 0\n",
        "    for x,y in zip(X,Y):\n",
        "      loss += (self.Sigmoid(x) - y)**2 #Squared Error loss\n",
        "    print(\"Loss is :\",loss)"
      ],
      "execution_count": 0,
      "outputs": []
    },
    {
      "cell_type": "code",
      "metadata": {
        "id": "6XazIGicaC_y",
        "colab_type": "code",
        "colab": {}
      },
      "source": [
        "  sf = SigmoidFunction()"
      ],
      "execution_count": 0,
      "outputs": []
    },
    {
      "cell_type": "code",
      "metadata": {
        "id": "HTGi1D4kZ3qQ",
        "colab_type": "code",
        "colab": {}
      },
      "source": [
        "sf.fit(X.reshape(10,1),Y)"
      ],
      "execution_count": 0,
      "outputs": []
    },
    {
      "cell_type": "code",
      "metadata": {
        "id": "J2tyufeUZ-eJ",
        "colab_type": "code",
        "outputId": "37c0dc21-3a4a-48fb-8cfe-a693ef43745e",
        "colab": {
          "base_uri": "https://localhost:8080/",
          "height": 34
        }
      },
      "source": [
        "X.shape"
      ],
      "execution_count": 0,
      "outputs": [
        {
          "output_type": "execute_result",
          "data": {
            "text/plain": [
              "(10,)"
            ]
          },
          "metadata": {
            "tags": []
          },
          "execution_count": 20
        }
      ]
    },
    {
      "cell_type": "code",
      "metadata": {
        "id": "Uz-9RIbSaYtO",
        "colab_type": "code",
        "outputId": "5ecc1662-225d-4ab2-fb81-2a970eddb57a",
        "colab": {
          "base_uri": "https://localhost:8080/",
          "height": 34
        }
      },
      "source": [
        "sf.w,sf.b"
      ],
      "execution_count": 0,
      "outputs": [
        {
          "output_type": "execute_result",
          "data": {
            "text/plain": [
              "(array([[1.71677445]]), array([-0.03849114]))"
            ]
          },
          "metadata": {
            "tags": []
          },
          "execution_count": 22
        }
      ]
    },
    {
      "cell_type": "code",
      "metadata": {
        "id": "lLEytiSGab8q",
        "colab_type": "code",
        "outputId": "7fea7a06-24b4-46f6-8744-e1fe5d1c32f1",
        "colab": {
          "base_uri": "https://localhost:8080/",
          "height": 34
        }
      },
      "source": [
        "sf.Loss(X,Y)"
      ],
      "execution_count": 0,
      "outputs": [
        {
          "output_type": "stream",
          "text": [
            "Loss is : [[0.03573527]]\n"
          ],
          "name": "stdout"
        }
      ]
    },
    {
      "cell_type": "code",
      "metadata": {
        "id": "WFNDdQv_bNQr",
        "colab_type": "code",
        "colab": {}
      },
      "source": [
        "sf.fit(X.reshape(10,1),Y,1,1,False)"
      ],
      "execution_count": 0,
      "outputs": []
    },
    {
      "cell_type": "code",
      "metadata": {
        "id": "wpCxigXWbUPI",
        "colab_type": "code",
        "outputId": "0b0983b7-1e49-4ced-bc09-7f752e91c428",
        "colab": {
          "base_uri": "https://localhost:8080/",
          "height": 34
        }
      },
      "source": [
        "sf.w,sf.b"
      ],
      "execution_count": 0,
      "outputs": [
        {
          "output_type": "execute_result",
          "data": {
            "text/plain": [
              "(array([[1.66866664]]), array([-0.07678534]))"
            ]
          },
          "metadata": {
            "tags": []
          },
          "execution_count": 26
        }
      ]
    },
    {
      "cell_type": "code",
      "metadata": {
        "id": "-dTWkO5qbWYx",
        "colab_type": "code",
        "outputId": "e6802c9d-7f42-4831-c018-571f0d55650e",
        "colab": {
          "base_uri": "https://localhost:8080/",
          "height": 34
        }
      },
      "source": [
        "sf.Loss(X,Y)"
      ],
      "execution_count": 0,
      "outputs": [
        {
          "output_type": "stream",
          "text": [
            "Loss is : [[0.03195247]]\n"
          ],
          "name": "stdout"
        }
      ]
    },
    {
      "cell_type": "code",
      "metadata": {
        "id": "luBl-C39bcwG",
        "colab_type": "code",
        "colab": {}
      },
      "source": [
        "X = X.reshape(10,1)"
      ],
      "execution_count": 0,
      "outputs": []
    },
    {
      "cell_type": "code",
      "metadata": {
        "id": "eIj8smpjbjrY",
        "colab_type": "code",
        "colab": {}
      },
      "source": [
        "sf.fit(X,Y,100,0.5)"
      ],
      "execution_count": 0,
      "outputs": []
    },
    {
      "cell_type": "code",
      "metadata": {
        "id": "0p-bQZq1brFw",
        "colab_type": "code",
        "outputId": "5cd4bc7f-87ab-4c59-a0d9-10ececad0c10",
        "colab": {
          "base_uri": "https://localhost:8080/",
          "height": 34
        }
      },
      "source": [
        "sf.w,sf.b"
      ],
      "execution_count": 0,
      "outputs": [
        {
          "output_type": "execute_result",
          "data": {
            "text/plain": [
              "(array([[0.72836002]]), array([0.24623063]))"
            ]
          },
          "metadata": {
            "tags": []
          },
          "execution_count": 30
        }
      ]
    },
    {
      "cell_type": "code",
      "metadata": {
        "id": "PCe2Z1fFbtG3",
        "colab_type": "code",
        "outputId": "caeadbab-0d70-486d-9af2-aeab69f49b8b",
        "colab": {
          "base_uri": "https://localhost:8080/",
          "height": 281
        }
      },
      "source": [
        "XX = np.linspace(-10,11,10000).reshape(10000,1)\n",
        "YY = [sf.Sigmoid(x) for x in XX]\n",
        "plt.plot(XX,YY)\n",
        "plt.plot(X,Y,'*')\n",
        "plt.title(\"w = {} , b = {} \".format(sf.w,sf.b));"
      ],
      "execution_count": 0,
      "outputs": [
        {
          "output_type": "display_data",
          "data": {
            "image/png": "[encoded data removed]",
            "text/plain": [
              "<Figure size 432x288 with 1 Axes>"
            ]
          },
          "metadata": {
            "tags": []
          }
        }
      ]
    },
    {
      "cell_type": "code",
      "metadata": {
        "id": "5nf2II6-cxw0",
        "colab_type": "code",
        "colab": {}
      },
      "source": [
        "sf.fit(X,Y,10000,0.05)"
      ],
      "execution_count": 0,
      "outputs": []
    },
    {
      "cell_type": "code",
      "metadata": {
        "id": "BRMnNQ1sfuTT",
        "colab_type": "code",
        "outputId": "418558c3-3b7e-4178-a05f-c571fdd34639",
        "colab": {
          "base_uri": "https://localhost:8080/",
          "height": 34
        }
      },
      "source": [
        "sf.w,sf.b"
      ],
      "execution_count": 0,
      "outputs": [
        {
          "output_type": "execute_result",
          "data": {
            "text/plain": [
              "(array([[0.69974937]]), array([0.30003543]))"
            ]
          },
          "metadata": {
            "tags": []
          },
          "execution_count": 39
        }
      ]
    },
    {
      "cell_type": "code",
      "metadata": {
        "id": "weMc6E45fwZH",
        "colab_type": "code",
        "colab": {}
      },
      "source": [
        "#For Binary Classification we will use the Threshold to classify the output as 0 and 1"
      ],
      "execution_count": 0,
      "outputs": []
    },
    {
      "cell_type": "markdown",
      "metadata": {
        "id": "ptPS3hIggIRA",
        "colab_type": "text"
      },
      "source": [
        "# MSE = Squared Error loss / Number of Inputs"
      ]
    },
    {
      "cell_type": "code",
      "metadata": {
        "id": "urd5npcwgLnU",
        "colab_type": "code",
        "outputId": "b5bc8652-8a4d-4c32-a6e2-fa42395e0403",
        "colab": {
          "base_uri": "https://localhost:8080/",
          "height": 34
        }
      },
      "source": [
        "sf.Loss(X,Y)"
      ],
      "execution_count": 0,
      "outputs": [
        {
          "output_type": "stream",
          "text": [
            "Loss is : [1.05143562e-08]\n"
          ],
          "name": "stdout"
        }
      ]
    },
    {
      "cell_type": "code",
      "metadata": {
        "id": "xafoI6YEgNqi",
        "colab_type": "code",
        "outputId": "7c233aaa-c1b8-400f-d412-178dcbc97832",
        "colab": {
          "base_uri": "https://localhost:8080/",
          "height": 34
        }
      },
      "source": [
        "mse = 1.05143562e-08/X.shape[0]\n",
        "mse"
      ],
      "execution_count": 0,
      "outputs": [
        {
          "output_type": "execute_result",
          "data": {
            "text/plain": [
              "1.05143562e-09"
            ]
          },
          "metadata": {
            "tags": []
          },
          "execution_count": 41
        }
      ]
    },
    {
      "cell_type": "code",
      "metadata": {
        "id": "9hon8i5YgVgd",
        "colab_type": "code",
        "colab": {}
      },
      "source": [
        "#MSE using SKLEARN\n",
        "#mean_squared_error (Y_true,Y_pred)"
      ],
      "execution_count": 0,
      "outputs": []
    },
    {
      "cell_type": "code",
      "metadata": {
        "id": "48eolCqkgeod",
        "colab_type": "code",
        "colab": {}
      },
      "source": [
        "Y_pred = [sf.Sigmoid(x) for x in X]"
      ],
      "execution_count": 0,
      "outputs": []
    },
    {
      "cell_type": "code",
      "metadata": {
        "id": "gB_Zig9ggrR9",
        "colab_type": "code",
        "outputId": "52b85032-ce65-43af-a498-e1b44c41abcb",
        "colab": {
          "base_uri": "https://localhost:8080/",
          "height": 190
        }
      },
      "source": [
        "Y_pred"
      ],
      "execution_count": 0,
      "outputs": [
        {
          "output_type": "execute_result",
          "data": {
            "text/plain": [
              "[array([0.73101626]),\n",
              " array([0.84547388]),\n",
              " array([0.91677265]),\n",
              " array([0.95685284]),\n",
              " array([0.97809265]),\n",
              " array([0.98899709]),\n",
              " array([0.99450431]),\n",
              " array([0.99726267]),\n",
              " array([0.99863846]),\n",
              " array([0.99932325])]"
            ]
          },
          "metadata": {
            "tags": []
          },
          "execution_count": 49
        }
      ]
    },
    {
      "cell_type": "code",
      "metadata": {
        "id": "JpKu6WjohLtt",
        "colab_type": "code",
        "colab": {}
      },
      "source": [
        "mse_sciki = mean_squared_error(Y,Y_pred)"
      ],
      "execution_count": 0,
      "outputs": []
    },
    {
      "cell_type": "code",
      "metadata": {
        "id": "6zQe3b7mhTPH",
        "colab_type": "code",
        "outputId": "186152db-4657-4175-c177-518aaad5f9b7",
        "colab": {
          "base_uri": "https://localhost:8080/",
          "height": 34
        }
      },
      "source": [
        "print(\"MSE using Scikit is \",mse_sciki)"
      ],
      "execution_count": 0,
      "outputs": [
        {
          "output_type": "stream",
          "text": [
            "MSE using Scikit is  1.0514356221054635e-09\n"
          ],
          "name": "stdout"
        }
      ]
    },
    {
      "cell_type": "code",
      "metadata": {
        "id": "b8NLy-OnhYf3",
        "colab_type": "code",
        "colab": {}
      },
      "source": [
        ""
      ],
      "execution_count": 0,
      "outputs": []
    }
  ]
}